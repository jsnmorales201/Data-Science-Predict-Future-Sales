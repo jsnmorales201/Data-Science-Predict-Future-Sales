{
 "cells": [
  {
   "cell_type": "code",
   "execution_count": 8,
   "metadata": {},
   "outputs": [
    {
     "name": "stderr",
     "output_type": "stream",
     "text": [
      "Installing package into 'C:/Users/Aigerim_acer/Documents/R/win-library/4.0'\n",
      "(as 'lib' is unspecified)\n",
      "\n"
     ]
    },
    {
     "name": "stdout",
     "output_type": "stream",
     "text": [
      "package 'reshape' successfully unpacked and MD5 sums checked\n",
      "\n",
      "The downloaded binary packages are in\n",
      "\tC:\\Users\\Aigerim_acer\\AppData\\Local\\Temp\\RtmpKufLlr\\downloaded_packages\n"
     ]
    }
   ],
   "source": [
    "install.packages(\"reshape\")"
   ]
  },
  {
   "cell_type": "code",
   "execution_count": 9,
   "metadata": {},
   "outputs": [],
   "source": [
    "library(lubridate)"
   ]
  },
  {
   "cell_type": "code",
   "execution_count": 10,
   "metadata": {},
   "outputs": [
    {
     "name": "stderr",
     "output_type": "stream",
     "text": [
      "\n",
      "Attaching package: 'dplyr'\n",
      "\n",
      "\n",
      "The following objects are masked from 'package:stats':\n",
      "\n",
      "    filter, lag\n",
      "\n",
      "\n",
      "The following objects are masked from 'package:base':\n",
      "\n",
      "    intersect, setdiff, setequal, union\n",
      "\n",
      "\n",
      "Warning message:\n",
      "\"package 'forecast' was built under R version 4.0.3\"\n",
      "Registered S3 method overwritten by 'quantmod':\n",
      "  method            from\n",
      "  as.zoo.data.frame zoo \n",
      "\n",
      "Warning message:\n",
      "\"package 'reshape' was built under R version 4.0.3\"\n",
      "\n",
      "Attaching package: 'reshape'\n",
      "\n",
      "\n",
      "The following object is masked from 'package:dplyr':\n",
      "\n",
      "    rename\n",
      "\n",
      "\n",
      "The following object is masked from 'package:lubridate':\n",
      "\n",
      "    stamp\n",
      "\n",
      "\n",
      "Warning message:\n",
      "\"package 'tidyverse' was built under R version 4.0.3\"\n",
      "-- \u001b[1mAttaching packages\u001b[22m --------------------------------------- tidyverse 1.3.0 --\n",
      "\n",
      "\u001b[32mv\u001b[39m \u001b[34mtibble \u001b[39m 3.0.3     \u001b[32mv\u001b[39m \u001b[34mpurrr  \u001b[39m 0.3.4\n",
      "\u001b[32mv\u001b[39m \u001b[34mtidyr  \u001b[39m 1.1.2     \u001b[32mv\u001b[39m \u001b[34mstringr\u001b[39m 1.4.0\n",
      "\u001b[32mv\u001b[39m \u001b[34mreadr  \u001b[39m 1.4.0     \u001b[32mv\u001b[39m \u001b[34mforcats\u001b[39m 0.5.0\n",
      "\n",
      "-- \u001b[1mConflicts\u001b[22m ------------------------------------------ tidyverse_conflicts() --\n",
      "\u001b[31mx\u001b[39m \u001b[34mlubridate\u001b[39m::\u001b[32mas.difftime()\u001b[39m masks \u001b[34mbase\u001b[39m::as.difftime()\n",
      "\u001b[31mx\u001b[39m \u001b[34mlubridate\u001b[39m::\u001b[32mdate()\u001b[39m        masks \u001b[34mbase\u001b[39m::date()\n",
      "\u001b[31mx\u001b[39m \u001b[34mtidyr\u001b[39m::\u001b[32mexpand()\u001b[39m          masks \u001b[34mreshape\u001b[39m::expand()\n",
      "\u001b[31mx\u001b[39m \u001b[34mdplyr\u001b[39m::\u001b[32mfilter()\u001b[39m          masks \u001b[34mstats\u001b[39m::filter()\n",
      "\u001b[31mx\u001b[39m \u001b[34mlubridate\u001b[39m::\u001b[32mintersect()\u001b[39m   masks \u001b[34mbase\u001b[39m::intersect()\n",
      "\u001b[31mx\u001b[39m \u001b[34mdplyr\u001b[39m::\u001b[32mlag()\u001b[39m             masks \u001b[34mstats\u001b[39m::lag()\n",
      "\u001b[31mx\u001b[39m \u001b[34mreshape\u001b[39m::\u001b[32mrename()\u001b[39m        masks \u001b[34mdplyr\u001b[39m::rename()\n",
      "\u001b[31mx\u001b[39m \u001b[34mlubridate\u001b[39m::\u001b[32msetdiff()\u001b[39m     masks \u001b[34mbase\u001b[39m::setdiff()\n",
      "\u001b[31mx\u001b[39m \u001b[34mreshape\u001b[39m::\u001b[32mstamp()\u001b[39m         masks \u001b[34mlubridate\u001b[39m::stamp()\n",
      "\u001b[31mx\u001b[39m \u001b[34mlubridate\u001b[39m::\u001b[32munion()\u001b[39m       masks \u001b[34mbase\u001b[39m::union()\n",
      "\n"
     ]
    }
   ],
   "source": [
    "library(dplyr)\n",
    "library(forecast)\n",
    "library(reshape)\n",
    "library(ggplot2)\n",
    "library(tidyverse)"
   ]
  },
  {
   "cell_type": "code",
   "execution_count": 11,
   "metadata": {},
   "outputs": [],
   "source": [
    "#update.packages(ask = FALSE)"
   ]
  },
  {
   "cell_type": "code",
   "execution_count": 12,
   "metadata": {
    "scrolled": true
   },
   "outputs": [],
   "source": [
    "#install.packages(\"e1071\")"
   ]
  },
  {
   "cell_type": "code",
   "execution_count": 13,
   "metadata": {
    "scrolled": true
   },
   "outputs": [],
   "source": [
    "#install.packages(\"gbm\")"
   ]
  },
  {
   "cell_type": "code",
   "execution_count": 62,
   "metadata": {
    "scrolled": true
   },
   "outputs": [
    {
     "name": "stderr",
     "output_type": "stream",
     "text": [
      "Warning message:\n",
      "\"package 'dismo' was built under R version 4.0.3\"\n",
      "Loading required package: raster\n",
      "\n",
      "Warning message:\n",
      "\"package 'raster' was built under R version 4.0.3\"\n",
      "Loading required package: sp\n",
      "\n",
      "Warning message:\n",
      "\"package 'sp' was built under R version 4.0.3\"\n",
      "\n",
      "Attaching package: 'raster'\n",
      "\n",
      "\n",
      "The following object is masked from 'package:e1071':\n",
      "\n",
      "    interpolate\n",
      "\n",
      "\n",
      "The following object is masked from 'package:tidyr':\n",
      "\n",
      "    extract\n",
      "\n",
      "\n",
      "The following object is masked from 'package:dplyr':\n",
      "\n",
      "    select\n",
      "\n",
      "\n"
     ]
    }
   ],
   "source": [
    "library(caret)\n",
    "library(e1071)\n",
    "library(gbm)\n",
    "library(dismo)"
   ]
  },
  {
   "cell_type": "markdown",
   "metadata": {},
   "source": [
    "# Data Preparation"
   ]
  },
  {
   "cell_type": "code",
   "execution_count": 15,
   "metadata": {},
   "outputs": [
    {
     "data": {
      "text/html": [
       "'LC_COLLATE=Russian_Russia.1251;LC_CTYPE=Russian_Russia.1251;LC_MONETARY=Russian_Russia.1251;LC_NUMERIC=C;LC_TIME=Russian_Russia.1251'"
      ],
      "text/latex": [
       "'LC\\_COLLATE=Russian\\_Russia.1251;LC\\_CTYPE=Russian\\_Russia.1251;LC\\_MONETARY=Russian\\_Russia.1251;LC\\_NUMERIC=C;LC\\_TIME=Russian\\_Russia.1251'"
      ],
      "text/markdown": [
       "'LC_COLLATE=Russian_Russia.1251;LC_CTYPE=Russian_Russia.1251;LC_MONETARY=Russian_Russia.1251;LC_NUMERIC=C;LC_TIME=Russian_Russia.1251'"
      ],
      "text/plain": [
       "[1] \"LC_COLLATE=Russian_Russia.1251;LC_CTYPE=Russian_Russia.1251;LC_MONETARY=Russian_Russia.1251;LC_NUMERIC=C;LC_TIME=Russian_Russia.1251\""
      ]
     },
     "metadata": {},
     "output_type": "display_data"
    }
   ],
   "source": [
    "Sys.setlocale(locale=\"russian\")\n",
    "item_categories = read.csv(\"item_categories.csv\",\n",
    "                 encoding = \"UTF-8\")\n",
    "items = read.csv(\"items.csv\",\n",
    "                 encoding = \"UTF-8\")\n",
    "sales_train = read.csv(\"sales_train.csv\",\n",
    "                 encoding = \"UTF-8\")\n",
    "shops = read.csv(\"shops.csv\",\n",
    "                 encoding = \"UTF-8\")\n",
    "test = read.csv(\"test.csv\",\n",
    "                 encoding = \"UTF-8\")"
   ]
  },
  {
   "cell_type": "code",
   "execution_count": 16,
   "metadata": {},
   "outputs": [
    {
     "data": {
      "text/html": [
       "<table>\n",
       "<caption>A data.frame: 6 × 3</caption>\n",
       "<thead>\n",
       "\t<tr><th></th><th scope=col>item_name</th><th scope=col>item_id</th><th scope=col>item_category_id</th></tr>\n",
       "\t<tr><th></th><th scope=col>&lt;chr&gt;</th><th scope=col>&lt;int&gt;</th><th scope=col>&lt;int&gt;</th></tr>\n",
       "</thead>\n",
       "<tbody>\n",
       "\t<tr><th scope=row>1</th><td>! ВО ВЛАСТИ НАВАЖДЕНИЯ (ПЛАСТ.)         D                           </td><td>0</td><td>40</td></tr>\n",
       "\t<tr><th scope=row>2</th><td>!ABBYY FineReader 12 Professional Edition Full [PC, Цифровая версия]</td><td>1</td><td>76</td></tr>\n",
       "\t<tr><th scope=row>3</th><td>***В ЛУЧАХ СЛАВЫ   (UNV)                    D                       </td><td>2</td><td>40</td></tr>\n",
       "\t<tr><th scope=row>4</th><td>***ГОЛУБАЯ ВОЛНА  (Univ)                      D                     </td><td>3</td><td>40</td></tr>\n",
       "\t<tr><th scope=row>5</th><td>***КОРОБКА (СТЕКЛО)                       D                         </td><td>4</td><td>40</td></tr>\n",
       "\t<tr><th scope=row>6</th><td>***НОВЫЕ АМЕРИКАНСКИЕ ГРАФФИТИ  (UNI)             D                 </td><td>5</td><td>40</td></tr>\n",
       "</tbody>\n",
       "</table>\n"
      ],
      "text/latex": [
       "A data.frame: 6 × 3\n",
       "\\begin{tabular}{r|lll}\n",
       "  & item\\_name & item\\_id & item\\_category\\_id\\\\\n",
       "  & <chr> & <int> & <int>\\\\\n",
       "\\hline\n",
       "\t1 & ! ВО ВЛАСТИ НАВАЖДЕНИЯ (ПЛАСТ.)         D                            & 0 & 40\\\\\n",
       "\t2 & !ABBYY FineReader 12 Professional Edition Full {[}PC, Цифровая версия{]} & 1 & 76\\\\\n",
       "\t3 & ***В ЛУЧАХ СЛАВЫ   (UNV)                    D                        & 2 & 40\\\\\n",
       "\t4 & ***ГОЛУБАЯ ВОЛНА  (Univ)                      D                      & 3 & 40\\\\\n",
       "\t5 & ***КОРОБКА (СТЕКЛО)                       D                          & 4 & 40\\\\\n",
       "\t6 & ***НОВЫЕ АМЕРИКАНСКИЕ ГРАФФИТИ  (UNI)             D                  & 5 & 40\\\\\n",
       "\\end{tabular}\n"
      ],
      "text/markdown": [
       "\n",
       "A data.frame: 6 × 3\n",
       "\n",
       "| <!--/--> | item_name &lt;chr&gt; | item_id &lt;int&gt; | item_category_id &lt;int&gt; |\n",
       "|---|---|---|---|\n",
       "| 1 | ! ВО ВЛАСТИ НАВАЖДЕНИЯ (ПЛАСТ.)         D                            | 0 | 40 |\n",
       "| 2 | !ABBYY FineReader 12 Professional Edition Full [PC, Цифровая версия] | 1 | 76 |\n",
       "| 3 | ***В ЛУЧАХ СЛАВЫ   (UNV)                    D                        | 2 | 40 |\n",
       "| 4 | ***ГОЛУБАЯ ВОЛНА  (Univ)                      D                      | 3 | 40 |\n",
       "| 5 | ***КОРОБКА (СТЕКЛО)                       D                          | 4 | 40 |\n",
       "| 6 | ***НОВЫЕ АМЕРИКАНСКИЕ ГРАФФИТИ  (UNI)             D                  | 5 | 40 |\n",
       "\n"
      ],
      "text/plain": [
       "  item_name                                                            item_id\n",
       "1 ! ВО ВЛАСТИ НАВАЖДЕНИЯ (ПЛАСТ.)         D                            0      \n",
       "2 !ABBYY FineReader 12 Professional Edition Full [PC, Цифровая версия] 1      \n",
       "3 ***В ЛУЧАХ СЛАВЫ   (UNV)                    D                        2      \n",
       "4 ***ГОЛУБАЯ ВОЛНА  (Univ)                      D                      3      \n",
       "5 ***КОРОБКА (СТЕКЛО)                       D                          4      \n",
       "6 ***НОВЫЕ АМЕРИКАНСКИЕ ГРАФФИТИ  (UNI)             D                  5      \n",
       "  item_category_id\n",
       "1 40              \n",
       "2 76              \n",
       "3 40              \n",
       "4 40              \n",
       "5 40              \n",
       "6 40              "
      ]
     },
     "metadata": {},
     "output_type": "display_data"
    }
   ],
   "source": [
    "head(items)"
   ]
  },
  {
   "cell_type": "code",
   "execution_count": 17,
   "metadata": {},
   "outputs": [
    {
     "data": {
      "text/html": [
       "<table>\n",
       "<caption>A data.frame: 6 × 6</caption>\n",
       "<thead>\n",
       "\t<tr><th></th><th scope=col>date</th><th scope=col>date_block_num</th><th scope=col>shop_id</th><th scope=col>item_id</th><th scope=col>item_price</th><th scope=col>item_cnt_day</th></tr>\n",
       "\t<tr><th></th><th scope=col>&lt;chr&gt;</th><th scope=col>&lt;int&gt;</th><th scope=col>&lt;int&gt;</th><th scope=col>&lt;int&gt;</th><th scope=col>&lt;dbl&gt;</th><th scope=col>&lt;dbl&gt;</th></tr>\n",
       "</thead>\n",
       "<tbody>\n",
       "\t<tr><th scope=row>1</th><td>02.01.2013</td><td>0</td><td>59</td><td>22154</td><td> 999.00</td><td> 1</td></tr>\n",
       "\t<tr><th scope=row>2</th><td>03.01.2013</td><td>0</td><td>25</td><td> 2552</td><td> 899.00</td><td> 1</td></tr>\n",
       "\t<tr><th scope=row>3</th><td>05.01.2013</td><td>0</td><td>25</td><td> 2552</td><td> 899.00</td><td>-1</td></tr>\n",
       "\t<tr><th scope=row>4</th><td>06.01.2013</td><td>0</td><td>25</td><td> 2554</td><td>1709.05</td><td> 1</td></tr>\n",
       "\t<tr><th scope=row>5</th><td>15.01.2013</td><td>0</td><td>25</td><td> 2555</td><td>1099.00</td><td> 1</td></tr>\n",
       "\t<tr><th scope=row>6</th><td>10.01.2013</td><td>0</td><td>25</td><td> 2564</td><td> 349.00</td><td> 1</td></tr>\n",
       "</tbody>\n",
       "</table>\n"
      ],
      "text/latex": [
       "A data.frame: 6 × 6\n",
       "\\begin{tabular}{r|llllll}\n",
       "  & date & date\\_block\\_num & shop\\_id & item\\_id & item\\_price & item\\_cnt\\_day\\\\\n",
       "  & <chr> & <int> & <int> & <int> & <dbl> & <dbl>\\\\\n",
       "\\hline\n",
       "\t1 & 02.01.2013 & 0 & 59 & 22154 &  999.00 &  1\\\\\n",
       "\t2 & 03.01.2013 & 0 & 25 &  2552 &  899.00 &  1\\\\\n",
       "\t3 & 05.01.2013 & 0 & 25 &  2552 &  899.00 & -1\\\\\n",
       "\t4 & 06.01.2013 & 0 & 25 &  2554 & 1709.05 &  1\\\\\n",
       "\t5 & 15.01.2013 & 0 & 25 &  2555 & 1099.00 &  1\\\\\n",
       "\t6 & 10.01.2013 & 0 & 25 &  2564 &  349.00 &  1\\\\\n",
       "\\end{tabular}\n"
      ],
      "text/markdown": [
       "\n",
       "A data.frame: 6 × 6\n",
       "\n",
       "| <!--/--> | date &lt;chr&gt; | date_block_num &lt;int&gt; | shop_id &lt;int&gt; | item_id &lt;int&gt; | item_price &lt;dbl&gt; | item_cnt_day &lt;dbl&gt; |\n",
       "|---|---|---|---|---|---|---|\n",
       "| 1 | 02.01.2013 | 0 | 59 | 22154 |  999.00 |  1 |\n",
       "| 2 | 03.01.2013 | 0 | 25 |  2552 |  899.00 |  1 |\n",
       "| 3 | 05.01.2013 | 0 | 25 |  2552 |  899.00 | -1 |\n",
       "| 4 | 06.01.2013 | 0 | 25 |  2554 | 1709.05 |  1 |\n",
       "| 5 | 15.01.2013 | 0 | 25 |  2555 | 1099.00 |  1 |\n",
       "| 6 | 10.01.2013 | 0 | 25 |  2564 |  349.00 |  1 |\n",
       "\n"
      ],
      "text/plain": [
       "  date       date_block_num shop_id item_id item_price item_cnt_day\n",
       "1 02.01.2013 0              59      22154    999.00     1          \n",
       "2 03.01.2013 0              25       2552    899.00     1          \n",
       "3 05.01.2013 0              25       2552    899.00    -1          \n",
       "4 06.01.2013 0              25       2554   1709.05     1          \n",
       "5 15.01.2013 0              25       2555   1099.00     1          \n",
       "6 10.01.2013 0              25       2564    349.00     1          "
      ]
     },
     "metadata": {},
     "output_type": "display_data"
    }
   ],
   "source": [
    "head(sales_train)"
   ]
  },
  {
   "cell_type": "code",
   "execution_count": 18,
   "metadata": {
    "scrolled": true
   },
   "outputs": [
    {
     "data": {
      "text/html": [
       "<table>\n",
       "<caption>A data.frame: 6 × 3</caption>\n",
       "<thead>\n",
       "\t<tr><th></th><th scope=col>ID</th><th scope=col>shop_id</th><th scope=col>item_id</th></tr>\n",
       "\t<tr><th></th><th scope=col>&lt;int&gt;</th><th scope=col>&lt;int&gt;</th><th scope=col>&lt;int&gt;</th></tr>\n",
       "</thead>\n",
       "<tbody>\n",
       "\t<tr><th scope=row>1</th><td>0</td><td>5</td><td>5037</td></tr>\n",
       "\t<tr><th scope=row>2</th><td>1</td><td>5</td><td>5320</td></tr>\n",
       "\t<tr><th scope=row>3</th><td>2</td><td>5</td><td>5233</td></tr>\n",
       "\t<tr><th scope=row>4</th><td>3</td><td>5</td><td>5232</td></tr>\n",
       "\t<tr><th scope=row>5</th><td>4</td><td>5</td><td>5268</td></tr>\n",
       "\t<tr><th scope=row>6</th><td>5</td><td>5</td><td>5039</td></tr>\n",
       "</tbody>\n",
       "</table>\n"
      ],
      "text/latex": [
       "A data.frame: 6 × 3\n",
       "\\begin{tabular}{r|lll}\n",
       "  & ID & shop\\_id & item\\_id\\\\\n",
       "  & <int> & <int> & <int>\\\\\n",
       "\\hline\n",
       "\t1 & 0 & 5 & 5037\\\\\n",
       "\t2 & 1 & 5 & 5320\\\\\n",
       "\t3 & 2 & 5 & 5233\\\\\n",
       "\t4 & 3 & 5 & 5232\\\\\n",
       "\t5 & 4 & 5 & 5268\\\\\n",
       "\t6 & 5 & 5 & 5039\\\\\n",
       "\\end{tabular}\n"
      ],
      "text/markdown": [
       "\n",
       "A data.frame: 6 × 3\n",
       "\n",
       "| <!--/--> | ID &lt;int&gt; | shop_id &lt;int&gt; | item_id &lt;int&gt; |\n",
       "|---|---|---|---|\n",
       "| 1 | 0 | 5 | 5037 |\n",
       "| 2 | 1 | 5 | 5320 |\n",
       "| 3 | 2 | 5 | 5233 |\n",
       "| 4 | 3 | 5 | 5232 |\n",
       "| 5 | 4 | 5 | 5268 |\n",
       "| 6 | 5 | 5 | 5039 |\n",
       "\n"
      ],
      "text/plain": [
       "  ID shop_id item_id\n",
       "1 0  5       5037   \n",
       "2 1  5       5320   \n",
       "3 2  5       5233   \n",
       "4 3  5       5232   \n",
       "5 4  5       5268   \n",
       "6 5  5       5039   "
      ]
     },
     "metadata": {},
     "output_type": "display_data"
    }
   ],
   "source": [
    "head(test)"
   ]
  },
  {
   "cell_type": "code",
   "execution_count": 19,
   "metadata": {},
   "outputs": [
    {
     "data": {
      "text/html": [
       "214200"
      ],
      "text/latex": [
       "214200"
      ],
      "text/markdown": [
       "214200"
      ],
      "text/plain": [
       "[1] 214200"
      ]
     },
     "metadata": {},
     "output_type": "display_data"
    }
   ],
   "source": [
    "nrow(test)"
   ]
  },
  {
   "cell_type": "markdown",
   "metadata": {},
   "source": [
    "# Getting an insight into data to Choose Features"
   ]
  },
  {
   "cell_type": "code",
   "execution_count": 20,
   "metadata": {},
   "outputs": [],
   "source": [
    "sales_train = merge(sales_train, items[,c(\"item_id\", \"item_category_id\")], by = \"item_id\")"
   ]
  },
  {
   "cell_type": "code",
   "execution_count": 21,
   "metadata": {},
   "outputs": [],
   "source": [
    "sales_train$date = as.Date(sales_train$date, \"%d.%m.%Y\")"
   ]
  },
  {
   "cell_type": "code",
   "execution_count": 22,
   "metadata": {},
   "outputs": [],
   "source": [
    "sales_train$year = year(sales_train$date)\n",
    "sales_train$year =  as.factor(sales_train$year)\n",
    "\n",
    "sales_train$month = month(sales_train$date)\n",
    "sales_train$month = as.factor(sales_train$month)\n",
    "\n",
    "sales_train$day = day(sales_train$date)\n",
    "sales_train$day = as.factor(sales_train$day)\n",
    "\n",
    "sales_train$weekdays =  weekdays(sales_train$date)\n",
    "sales_train$weekdays = as.factor(sales_train$weekdays)"
   ]
  },
  {
   "cell_type": "code",
   "execution_count": 24,
   "metadata": {
    "scrolled": false
   },
   "outputs": [
    {
     "data": {
      "text/html": [
       "<table>\n",
       "<caption>A data.frame: 6 × 11</caption>\n",
       "<thead>\n",
       "\t<tr><th></th><th scope=col>item_id</th><th scope=col>date</th><th scope=col>date_block_num</th><th scope=col>shop_id</th><th scope=col>item_price</th><th scope=col>item_cnt_day</th><th scope=col>item_category_id</th><th scope=col>year</th><th scope=col>month</th><th scope=col>day</th><th scope=col>weekdays</th></tr>\n",
       "\t<tr><th></th><th scope=col>&lt;int&gt;</th><th scope=col>&lt;date&gt;</th><th scope=col>&lt;int&gt;</th><th scope=col>&lt;int&gt;</th><th scope=col>&lt;dbl&gt;</th><th scope=col>&lt;dbl&gt;</th><th scope=col>&lt;int&gt;</th><th scope=col>&lt;fct&gt;</th><th scope=col>&lt;fct&gt;</th><th scope=col>&lt;fct&gt;</th><th scope=col>&lt;fct&gt;</th></tr>\n",
       "</thead>\n",
       "<tbody>\n",
       "\t<tr><th scope=row>1</th><td>0</td><td>2014-09-01</td><td>20</td><td>54</td><td>  58</td><td>1</td><td>40</td><td>2014</td><td>9 </td><td>1 </td><td>понедельник</td></tr>\n",
       "\t<tr><th scope=row>2</th><td>1</td><td>2014-09-11</td><td>20</td><td>55</td><td>4490</td><td>1</td><td>76</td><td>2014</td><td>9 </td><td>11</td><td>четверг    </td></tr>\n",
       "\t<tr><th scope=row>3</th><td>1</td><td>2014-10-20</td><td>21</td><td>55</td><td>4490</td><td>1</td><td>76</td><td>2014</td><td>10</td><td>20</td><td>понедельник</td></tr>\n",
       "\t<tr><th scope=row>4</th><td>1</td><td>2014-04-04</td><td>15</td><td>55</td><td>4490</td><td>1</td><td>76</td><td>2014</td><td>4 </td><td>4 </td><td>пятница    </td></tr>\n",
       "\t<tr><th scope=row>5</th><td>1</td><td>2014-04-02</td><td>15</td><td>55</td><td>4490</td><td>1</td><td>76</td><td>2014</td><td>4 </td><td>2 </td><td>среда      </td></tr>\n",
       "\t<tr><th scope=row>6</th><td>1</td><td>2014-07-06</td><td>18</td><td>55</td><td>4490</td><td>1</td><td>76</td><td>2014</td><td>7 </td><td>6 </td><td>воскресенье</td></tr>\n",
       "</tbody>\n",
       "</table>\n"
      ],
      "text/latex": [
       "A data.frame: 6 × 11\n",
       "\\begin{tabular}{r|lllllllllll}\n",
       "  & item\\_id & date & date\\_block\\_num & shop\\_id & item\\_price & item\\_cnt\\_day & item\\_category\\_id & year & month & day & weekdays\\\\\n",
       "  & <int> & <date> & <int> & <int> & <dbl> & <dbl> & <int> & <fct> & <fct> & <fct> & <fct>\\\\\n",
       "\\hline\n",
       "\t1 & 0 & 2014-09-01 & 20 & 54 &   58 & 1 & 40 & 2014 & 9  & 1  & понедельник\\\\\n",
       "\t2 & 1 & 2014-09-11 & 20 & 55 & 4490 & 1 & 76 & 2014 & 9  & 11 & четверг    \\\\\n",
       "\t3 & 1 & 2014-10-20 & 21 & 55 & 4490 & 1 & 76 & 2014 & 10 & 20 & понедельник\\\\\n",
       "\t4 & 1 & 2014-04-04 & 15 & 55 & 4490 & 1 & 76 & 2014 & 4  & 4  & пятница    \\\\\n",
       "\t5 & 1 & 2014-04-02 & 15 & 55 & 4490 & 1 & 76 & 2014 & 4  & 2  & среда      \\\\\n",
       "\t6 & 1 & 2014-07-06 & 18 & 55 & 4490 & 1 & 76 & 2014 & 7  & 6  & воскресенье\\\\\n",
       "\\end{tabular}\n"
      ],
      "text/markdown": [
       "\n",
       "A data.frame: 6 × 11\n",
       "\n",
       "| <!--/--> | item_id &lt;int&gt; | date &lt;date&gt; | date_block_num &lt;int&gt; | shop_id &lt;int&gt; | item_price &lt;dbl&gt; | item_cnt_day &lt;dbl&gt; | item_category_id &lt;int&gt; | year &lt;fct&gt; | month &lt;fct&gt; | day &lt;fct&gt; | weekdays &lt;fct&gt; |\n",
       "|---|---|---|---|---|---|---|---|---|---|---|---|\n",
       "| 1 | 0 | 2014-09-01 | 20 | 54 |   58 | 1 | 40 | 2014 | 9  | 1  | понедельник |\n",
       "| 2 | 1 | 2014-09-11 | 20 | 55 | 4490 | 1 | 76 | 2014 | 9  | 11 | четверг     |\n",
       "| 3 | 1 | 2014-10-20 | 21 | 55 | 4490 | 1 | 76 | 2014 | 10 | 20 | понедельник |\n",
       "| 4 | 1 | 2014-04-04 | 15 | 55 | 4490 | 1 | 76 | 2014 | 4  | 4  | пятница     |\n",
       "| 5 | 1 | 2014-04-02 | 15 | 55 | 4490 | 1 | 76 | 2014 | 4  | 2  | среда       |\n",
       "| 6 | 1 | 2014-07-06 | 18 | 55 | 4490 | 1 | 76 | 2014 | 7  | 6  | воскресенье |\n",
       "\n"
      ],
      "text/plain": [
       "  item_id date       date_block_num shop_id item_price item_cnt_day\n",
       "1 0       2014-09-01 20             54        58       1           \n",
       "2 1       2014-09-11 20             55      4490       1           \n",
       "3 1       2014-10-20 21             55      4490       1           \n",
       "4 1       2014-04-04 15             55      4490       1           \n",
       "5 1       2014-04-02 15             55      4490       1           \n",
       "6 1       2014-07-06 18             55      4490       1           \n",
       "  item_category_id year month day weekdays   \n",
       "1 40               2014 9     1   понедельник\n",
       "2 76               2014 9     11  четверг    \n",
       "3 76               2014 10    20  понедельник\n",
       "4 76               2014 4     4   пятница    \n",
       "5 76               2014 4     2   среда      \n",
       "6 76               2014 7     6   воскресенье"
      ]
     },
     "metadata": {},
     "output_type": "display_data"
    }
   ],
   "source": [
    "head(sales_train) \n",
    "#понедельник-Monday; вторник-Tuesday; среда-Wednesday; четверг-Thursday; пятница-Friday; суббота-Saturday; воскресенье-Sunday"
   ]
  },
  {
   "cell_type": "code",
   "execution_count": 25,
   "metadata": {},
   "outputs": [],
   "source": [
    "sales_train$item_category_id =  as.factor(sales_train$item_category_id)"
   ]
  },
  {
   "cell_type": "code",
   "execution_count": 26,
   "metadata": {},
   "outputs": [
    {
     "name": "stderr",
     "output_type": "stream",
     "text": [
      "`summarise()` ungrouping output (override with `.groups` argument)\n",
      "\n"
     ]
    }
   ],
   "source": [
    "sales_shop = sales_train %>%\n",
    "    select(shop_id, item_cnt_day) %>%\n",
    "    group_by(shop_id) %>%\n",
    "    summarise(item_cnt_day =  sum(item_cnt_day, na.rm = T))"
   ]
  },
  {
   "cell_type": "code",
   "execution_count": 27,
   "metadata": {},
   "outputs": [
    {
     "name": "stderr",
     "output_type": "stream",
     "text": [
      "Warning message:\n",
      "\"Ignoring unknown parameters: binwidth, bins, pad\"\n"
     ]
    },
    {
     "data": {
      "image/png": "[encoded data removed]",
      "text/plain": [
       "plot without title"
      ]
     },
     "metadata": {
      "image/png": {
       "height": 420,
       "width": 420
      }
     },
     "output_type": "display_data"
    }
   ],
   "source": [
    "ggplot(data =  sales_shop, \n",
    "       mapping = aes(x = reorder(shop_id, item_cnt_day), \n",
    "                     y = item_cnt_day, \n",
    "                     fill = factor(shop_id))) +\n",
    "    geom_histogram(stat = \"identity\", color = \"yellow\") +\n",
    "    # coord_flip() +\n",
    "    xlab(\"Shop ID\") + ylab(\"Sales Count\")+\n",
    "    # geom_label(stat = \"identity\",position = position_dodge(width = 1),hjust = \"center\", aes(label = item_cnt_day)) +\n",
    "    ggtitle(label = \"Shop sales\") +\n",
    "    theme(\n",
    "        # get rid of panel grids\n",
    "        panel.grid.major = element_blank(),\n",
    "        panel.grid.minor = element_line(colour = \"gray\",linetype = \"dotted\"),\n",
    "        # Change plot and panel background\n",
    "        plot.background=element_rect(fill = \"black\"),\n",
    "        panel.background = element_rect(fill = 'black'),\n",
    "        # Change legend \n",
    "        # legend.position = c(0.6, 0.07),\n",
    "        # legend.direction = \"horizontal\",\n",
    "        legend.background = element_rect(fill = \"black\", color = NA),\n",
    "        legend.key = element_rect(color = \"gray\", fill = \"black\"),\n",
    "        legend.title = element_text(color = \"white\"),\n",
    "        legend.text = element_text(color = \"white\"),\n",
    "        # align title to top center, top ledt is by default.\n",
    "        plot.title = element_text(color = \"white\", hjust = 0.5, face = \"bold\"),\n",
    "        # axis ticks to bold black\n",
    "        axis.text=element_text(colour = \"yellow\",face = \"bold\"),\n",
    "        axis.title.x = element_text(color = \"white\"),\n",
    "        axis.title.y = element_text(color = \"white\")\n",
    "    )"
   ]
  },
  {
   "cell_type": "code",
   "execution_count": 28,
   "metadata": {},
   "outputs": [
    {
     "name": "stderr",
     "output_type": "stream",
     "text": [
      "`summarise()` ungrouping output (override with `.groups` argument)\n",
      "\n"
     ]
    }
   ],
   "source": [
    "# sales item category\n",
    "\n",
    "sales_category = sales_train %>%\n",
    "    select(item_category_id, item_cnt_day) %>%\n",
    "    group_by(item_category_id) %>%\n",
    "    summarise(item_cnt_day =  sum(item_cnt_day, na.rm = T))"
   ]
  },
  {
   "cell_type": "code",
   "execution_count": 29,
   "metadata": {},
   "outputs": [
    {
     "name": "stderr",
     "output_type": "stream",
     "text": [
      "Warning message:\n",
      "\"Ignoring unknown parameters: binwidth, bins, pad\"\n"
     ]
    },
    {
     "data": {
      "image/png": "[encoded data removed]",
      "text/plain": [
       "plot without title"
      ]
     },
     "metadata": {
      "image/png": {
       "height": 420,
       "width": 420
      }
     },
     "output_type": "display_data"
    }
   ],
   "source": [
    "ggplot(data =  sales_category, \n",
    "       mapping = aes(x = reorder(item_category_id,item_cnt_day), \n",
    "                     y = item_cnt_day,\n",
    "                     fill = factor(item_category_id))) +\n",
    "    geom_histogram(stat = \"identity\", color = \"yellow\") +\n",
    "    # coord_flip() +\n",
    "    xlab(\"Item Category\") + ylab(\"Sales Count\") +\n",
    "    ggtitle(\"Sale Item Category wise\")+\n",
    "    theme(\n",
    "        # get rid of panel grids\n",
    "        panel.grid.major = element_blank(),\n",
    "        panel.grid.minor = element_line(colour = \"gray\",linetype = \"dotted\"),\n",
    "        # Change plot and panel background\n",
    "        plot.background=element_rect(fill = \"black\"),\n",
    "        panel.background = element_rect(fill = 'black'),\n",
    "        # Change legend \n",
    "        # legend.position = c(0.6, 0.07),\n",
    "        # legend.direction = \"horizontal\",\n",
    "        legend.background = element_rect(fill = \"black\", color = NA),\n",
    "        legend.key = element_rect(color = \"gray\", fill = \"black\"),\n",
    "        legend.title = element_text(color = \"white\"),\n",
    "        legend.text = element_text(color = \"white\"),\n",
    "        # align title to top center, top ledt is by default.\n",
    "        plot.title = element_text(color = \"white\", hjust = 0.5, face = \"bold\"),\n",
    "        # axis ticks to bold black\n",
    "        axis.text=element_text(colour = \"yellow\",face = \"bold\"),\n",
    "        axis.title.x = element_text(color = \"white\"),\n",
    "        axis.title.y = element_text(color = \"white\")\n",
    "    )"
   ]
  },
  {
   "cell_type": "code",
   "execution_count": 30,
   "metadata": {},
   "outputs": [
    {
     "name": "stderr",
     "output_type": "stream",
     "text": [
      "`summarise()` ungrouping output (override with `.groups` argument)\n",
      "\n"
     ]
    }
   ],
   "source": [
    "items_pop_shop = sales_train %>%\n",
    "    select(shop_id, item_id) %>%\n",
    "    group_by(shop_id) %>%\n",
    "    summarise(item_id = n_distinct(item_id))"
   ]
  },
  {
   "cell_type": "code",
   "execution_count": 31,
   "metadata": {},
   "outputs": [
    {
     "name": "stderr",
     "output_type": "stream",
     "text": [
      "Warning message:\n",
      "\"Ignoring unknown parameters: binwidth, bins, pad\"\n"
     ]
    },
    {
     "data": {
      "image/png": "[encoded data removed]",
      "text/plain": [
       "plot without title"
      ]
     },
     "metadata": {
      "image/png": {
       "height": 420,
       "width": 420
      }
     },
     "output_type": "display_data"
    }
   ],
   "source": [
    "ggplot(data = items_pop_shop,\n",
    "       mapping = aes(x = reorder(shop_id,item_id),\n",
    "                     y = item_id,\n",
    "                     fill = factor(shop_id)))+\n",
    "    geom_histogram(stat = \"identity\", color = \"yellow\") +\n",
    "    xlab(\" Shop ID\")+ ylab(\" Items in shop\")+\n",
    "    ggtitle(\"Most Items in Shops\") +\n",
    "    coord_flip()+\n",
    "    theme(\n",
    "        # get rid of panel grids\n",
    "        panel.grid.major = element_blank(),\n",
    "        panel.grid.minor = element_line(colour = \"gray\",linetype = \"dotted\"),\n",
    "        # Change plot and panel background\n",
    "        plot.background=element_rect(fill = \"black\"),\n",
    "        panel.background = element_rect(fill = 'black'),\n",
    "        # Change legend \n",
    "        # legend.position = c(0.6, 0.07),\n",
    "        # legend.direction = \"horizontal\",\n",
    "        legend.background = element_rect(fill = \"black\", color = NA),\n",
    "        legend.key = element_rect(color = \"gray\", fill = \"black\"),\n",
    "        legend.title = element_text(color = \"white\"),\n",
    "        legend.text = element_text(color = \"white\"),\n",
    "        # align title to top center, top ledt is by default.\n",
    "        plot.title = element_text(color = \"white\", hjust = 0.5, face = \"bold\"),\n",
    "        # axis ticks to bold black\n",
    "        axis.text=element_text(colour = \"yellow\",face = \"bold\"),\n",
    "        axis.title.x = element_text(color = \"white\"),\n",
    "        axis.title.y = element_text(color = \"white\")\n",
    "    ) "
   ]
  },
  {
   "cell_type": "code",
   "execution_count": 32,
   "metadata": {},
   "outputs": [
    {
     "name": "stderr",
     "output_type": "stream",
     "text": [
      "`summarise()` ungrouping output (override with `.groups` argument)\n",
      "\n"
     ]
    }
   ],
   "source": [
    "#category of items most available\n",
    "\n",
    "category_item_most = sales_train %>%\n",
    "    select(item_category_id, item_id) %>%\n",
    "    group_by(item_category_id) %>%\n",
    "    summarise(item_id =  n_distinct(item_id))"
   ]
  },
  {
   "cell_type": "code",
   "execution_count": 33,
   "metadata": {
    "scrolled": true
   },
   "outputs": [
    {
     "name": "stderr",
     "output_type": "stream",
     "text": [
      "Warning message:\n",
      "\"Ignoring unknown parameters: binwidth, bins, pad\"\n"
     ]
    },
    {
     "data": {
      "image/png": "[encoded data removed]",
      "text/plain": [
       "plot without title"
      ]
     },
     "metadata": {
      "image/png": {
       "height": 420,
       "width": 420
      }
     },
     "output_type": "display_data"
    }
   ],
   "source": [
    "ggplot(data = category_item_most,\n",
    "       mapping = aes(x = reorder(item_category_id,item_id),\n",
    "                     y = item_id,\n",
    "                     fill = factor(item_category_id)))+\n",
    "    geom_histogram(stat = \"identity\", color = \"yellow\") +\n",
    "    xlab(\" Category ID\")+ ylab(\" Items in Category\")+\n",
    "    ggtitle(\"Most Items per Category\") +\n",
    "    coord_flip()+\n",
    "    theme(\n",
    "        # get rid of panel grids\n",
    "        panel.grid.major = element_blank(),\n",
    "        panel.grid.minor = element_line(colour = \"gray\",linetype = \"dotted\"),\n",
    "        # Change plot and panel background\n",
    "        plot.background=element_rect(fill = \"black\"),\n",
    "        panel.background = element_rect(fill = 'black'),\n",
    "        # Change legend \n",
    "        # legend.position = c(0.6, 0.07),\n",
    "        # legend.direction = \"horizontal\",\n",
    "        legend.background = element_rect(fill = \"black\", color = NA),\n",
    "        legend.key = element_rect(color = \"gray\", fill = \"black\"),\n",
    "        legend.title = element_text(color = \"white\"),\n",
    "        legend.text = element_text(color = \"white\"),\n",
    "        # align title to top center, top ledt is by default.\n",
    "        plot.title = element_text(color = \"white\", hjust = 0.5, face = \"bold\"),\n",
    "        # axis ticks to bold black\n",
    "        axis.text=element_text(colour = \"yellow\",face = \"bold\"),\n",
    "        axis.title.x = element_text(color = \"white\"),\n",
    "        axis.title.y = element_text(color = \"white\")\n",
    "    ) "
   ]
  },
  {
   "cell_type": "code",
   "execution_count": 34,
   "metadata": {},
   "outputs": [
    {
     "name": "stderr",
     "output_type": "stream",
     "text": [
      "`summarise()` regrouping output by 'shop_id' (override with `.groups` argument)\n",
      "\n"
     ]
    }
   ],
   "source": [
    "## most sold and popular item in a shop\n",
    " # filter(sold_item_count == max(sold_item_count)) %>%\n",
    "\n",
    "sold_popular_items  =  sales_train %>%\n",
    "    group_by(shop_id, item_id) %>%\n",
    "    summarise(sold_item_count = sum(item_cnt_day)) %>%\n",
    "    arrange(desc(sold_item_count))\n"
   ]
  },
  {
   "cell_type": "code",
   "execution_count": 35,
   "metadata": {},
   "outputs": [
    {
     "name": "stderr",
     "output_type": "stream",
     "text": [
      "`summarise()` regrouping output by 'shop_id' (override with `.groups` argument)\n",
      "\n"
     ]
    }
   ],
   "source": [
    "most_popular_items  =  sales_train %>%\n",
    "    group_by(shop_id, item_id) %>%\n",
    "    summarise(sold_item_count = sum(item_cnt_day)) %>%\n",
    "    filter(sold_item_count == max(sold_item_count)) %>%\n",
    "    arrange(desc(sold_item_count))"
   ]
  },
  {
   "cell_type": "code",
   "execution_count": 36,
   "metadata": {},
   "outputs": [
    {
     "name": "stderr",
     "output_type": "stream",
     "text": [
      "Warning message:\n",
      "\"Ignoring unknown parameters: binwidth, bins, pad\"\n"
     ]
    },
    {
     "data": {
      "image/png": "[encoded data removed]",
      "text/plain": [
       "plot without title"
      ]
     },
     "metadata": {
      "image/png": {
       "height": 420,
       "width": 420
      }
     },
     "output_type": "display_data"
    }
   ],
   "source": [
    "ggplot(data = most_popular_items,\n",
    "       mapping = aes(x = reorder(shop_id, sold_item_count),\n",
    "                     y = sold_item_count,\n",
    "                     fill = factor(item_id))) +\n",
    "    geom_histogram(stat = \"identity\", color = \"yellow\") +\n",
    "    xlab(\"\") + ylab(\"Sales Count\") +\n",
    "    ggtitle(\"Most Popular Item per shop\") +\n",
    "    coord_flip()+\n",
    "    theme(\n",
    "        # get rid of panel grids\n",
    "        panel.grid.major = element_blank(),\n",
    "        panel.grid.minor = element_line(colour = \"gray\",linetype = \"dotted\"),\n",
    "        # Change plot and panel background\n",
    "        plot.background=element_rect(fill = \"black\"),\n",
    "        panel.background = element_rect(fill = 'black'),\n",
    "        # Change legend \n",
    "        # legend.position = c(0.6, 0.07),\n",
    "        # legend.direction = \"horizontal\",\n",
    "        legend.background = element_rect(fill = \"black\", color = NA),\n",
    "        legend.key = element_rect(color = \"gray\", fill = \"black\"),\n",
    "        legend.title = element_text(color = \"white\"),\n",
    "        legend.text = element_text(color = \"white\"),\n",
    "        # align title to top center, top ledt is by default.\n",
    "        plot.title = element_text(color = \"white\", hjust = 0.5, face = \"bold\"),\n",
    "        # axis ticks to bold black\n",
    "        axis.text=element_text(colour = \"yellow\",face = \"bold\"),\n",
    "        axis.title.x = element_text(color = \"white\"),\n",
    "        axis.title.y = element_text(color = \"white\")\n",
    "    ) "
   ]
  },
  {
   "cell_type": "code",
   "execution_count": 37,
   "metadata": {},
   "outputs": [
    {
     "name": "stderr",
     "output_type": "stream",
     "text": [
      "`summarise()` ungrouping output (override with `.groups` argument)\n",
      "\n"
     ]
    }
   ],
   "source": [
    "# shop has most category of items \n",
    "most_category_shop = sales_train %>%\n",
    "    select(shop_id, item_category_id) %>%\n",
    "    group_by(shop_id) %>%\n",
    "    summarise(category_count =  n_distinct(item_category_id)) %>%\n",
    "    arrange(desc(category_count))"
   ]
  },
  {
   "cell_type": "code",
   "execution_count": 38,
   "metadata": {},
   "outputs": [
    {
     "name": "stderr",
     "output_type": "stream",
     "text": [
      "Warning message:\n",
      "\"Ignoring unknown parameters: binwidth, bins, pad\"\n"
     ]
    },
    {
     "data": {
      "image/png": "[encoded data removed]",
      "text/plain": [
       "plot without title"
      ]
     },
     "metadata": {
      "image/png": {
       "height": 420,
       "width": 420
      }
     },
     "output_type": "display_data"
    }
   ],
   "source": [
    "ggplot(data = most_category_shop,\n",
    "       mapping = aes(x = reorder(shop_id, category_count),\n",
    "                     y = category_count,\n",
    "                     fill = factor(shop_id))) +\n",
    "    geom_histogram(stat = \"identity\", color = \"yellow\") +\n",
    "    xlab(\"Shop ID\") + ylab(\"Item Category Count\") +\n",
    "    ggtitle(\"Most Item category per shop\") +\n",
    "    coord_flip()+\n",
    "    theme(\n",
    "        # get rid of panel grids\n",
    "        panel.grid.major = element_blank(),\n",
    "        panel.grid.minor = element_line(colour = \"gray\",linetype = \"dotted\"),\n",
    "        # Change plot and panel background\n",
    "        plot.background=element_rect(fill = \"black\"),\n",
    "        panel.background = element_rect(fill = 'black'),\n",
    "        # Change legend \n",
    "        # legend.position = c(0.6, 0.07),\n",
    "        # legend.direction = \"horizontal\",\n",
    "        legend.background = element_rect(fill = \"black\", color = NA),\n",
    "        legend.key = element_rect(color = \"gray\", fill = \"black\"),\n",
    "        legend.title = element_text(color = \"white\"),\n",
    "        legend.text = element_text(color = \"white\"),\n",
    "        # align title to top center, top ledt is by default.\n",
    "        plot.title = element_text(color = \"white\", hjust = 0.5, face = \"bold\"),\n",
    "        # axis ticks to bold black\n",
    "        axis.text=element_text(colour = \"yellow\",face = \"bold\"),\n",
    "        axis.title.x = element_text(color = \"white\"),\n",
    "        axis.title.y = element_text(color = \"white\")\n",
    "    ) "
   ]
  },
  {
   "cell_type": "code",
   "execution_count": 39,
   "metadata": {},
   "outputs": [
    {
     "name": "stderr",
     "output_type": "stream",
     "text": [
      "`summarise()` regrouping output by 'shop_id' (override with `.groups` argument)\n",
      "\n"
     ]
    }
   ],
   "source": [
    "# item category most popular and most sold in each shop\n",
    "\n",
    "pop_sold_category =  sales_train %>%\n",
    "    group_by(shop_id, item_category_id) %>%\n",
    "    summarise(category_count = sum(item_cnt_day)) %>%\n",
    "    filter(category_count == max(category_count)) %>%\n",
    "    arrange(desc(category_count))\n"
   ]
  },
  {
   "cell_type": "code",
   "execution_count": 40,
   "metadata": {},
   "outputs": [
    {
     "name": "stderr",
     "output_type": "stream",
     "text": [
      "Warning message:\n",
      "\"Ignoring unknown parameters: binwidth, bins, pad\"\n"
     ]
    },
    {
     "data": {
      "image/png": "[encoded data removed]",
      "text/plain": [
       "plot without title"
      ]
     },
     "metadata": {
      "image/png": {
       "height": 420,
       "width": 420
      }
     },
     "output_type": "display_data"
    }
   ],
   "source": [
    "ggplot(data =  pop_sold_category, \n",
    "       mapping = aes(x = reorder(shop_id, category_count),\n",
    "                     y =  category_count,\n",
    "                     fill = factor(item_category_id))) +\n",
    "    geom_histogram(stat =\"identity\", color = \"yellow\") +\n",
    "    xlab(\"Shop ID\")+ ylab(\"Category per shop\") + \n",
    "    ggtitle(\"Most popular item category per shop\")+\n",
    "    coord_flip()+\n",
    "    theme(\n",
    "        # get rid of panel grids\n",
    "        panel.grid.major = element_blank(),\n",
    "        panel.grid.minor = element_line(colour = \"gray\",linetype = \"dotted\"),\n",
    "        # Change plot and panel background\n",
    "        plot.background=element_rect(fill = \"black\"),\n",
    "        panel.background = element_rect(fill = 'black'),\n",
    "        # Change legend \n",
    "        # legend.position = c(0.6, 0.07),\n",
    "        # legend.direction = \"horizontal\",\n",
    "        legend.background = element_rect(fill = \"black\", color = NA),\n",
    "        legend.key = element_rect(color = \"gray\", fill = \"black\"),\n",
    "        legend.title = element_text(color = \"white\"),\n",
    "        legend.text = element_text(color = \"white\"),\n",
    "        # align title to top center, top ledt is by default.\n",
    "        plot.title = element_text(color = \"white\", hjust = 0.5, face = \"bold\"),\n",
    "        # axis ticks to bold black\n",
    "        axis.text=element_text(colour = \"yellow\",face = \"bold\"),\n",
    "        axis.title.x = element_text(color = \"white\"),\n",
    "        axis.title.y = element_text(color = \"white\")\n",
    "    ) "
   ]
  },
  {
   "cell_type": "code",
   "execution_count": 41,
   "metadata": {},
   "outputs": [
    {
     "name": "stderr",
     "output_type": "stream",
     "text": [
      "`summarise()` ungrouping output (override with `.groups` argument)\n",
      "\n"
     ]
    }
   ],
   "source": [
    "# which item category provides the greatest revenue in all shops\n",
    "\n",
    "high_revenue_category = sales_train %>%\n",
    "    group_by(item_category_id) %>%\n",
    "    summarise(total_revenue = sum(item_cnt_day * item_price)) %>%\n",
    "    arrange(desc(total_revenue))"
   ]
  },
  {
   "cell_type": "code",
   "execution_count": 42,
   "metadata": {},
   "outputs": [
    {
     "name": "stderr",
     "output_type": "stream",
     "text": [
      "Warning message:\n",
      "\"Ignoring unknown parameters: binwidth, bins, pad\"\n"
     ]
    },
    {
     "data": {
      "image/png": "[encoded data removed]",
      "text/plain": [
       "plot without title"
      ]
     },
     "metadata": {
      "image/png": {
       "height": 420,
       "width": 420
      }
     },
     "output_type": "display_data"
    }
   ],
   "source": [
    "ggplot(high_revenue_category, \n",
    "       aes(x = reorder(item_category_id, total_revenue),\n",
    "           y = total_revenue,\n",
    "           fill = factor(item_category_id))) +\n",
    "    geom_histogram(stat = \"identity\", color = \"yellow\") +\n",
    "    xlab(\"Category ID\") + ylab(\"Total Gross\")+\n",
    "    ggtitle(\"total revenue per Item category\") +\n",
    "    coord_flip()+\n",
    "    theme(\n",
    "        # get rid of panel grids\n",
    "        panel.grid.major = element_blank(),\n",
    "        panel.grid.minor = element_line(colour = \"gray\",linetype = \"dotted\"),\n",
    "        # Change plot and panel background\n",
    "        plot.background=element_rect(fill = \"black\"),\n",
    "        panel.background = element_rect(fill = 'black'),\n",
    "        # Change legend \n",
    "        # legend.position = c(0.6, 0.07),\n",
    "        # legend.direction = \"horizontal\",\n",
    "        legend.background = element_rect(fill = \"black\", color = NA),\n",
    "        legend.key = element_rect(color = \"gray\", fill = \"black\"),\n",
    "        legend.title = element_text(color = \"white\"),\n",
    "        legend.text = element_text(color = \"white\"),\n",
    "        # align title to top center, top ledt is by default.\n",
    "        plot.title = element_text(color = \"white\", hjust = 0.5, face = \"bold\"),\n",
    "        # axis ticks to bold black\n",
    "        axis.text=element_text(colour = \"yellow\",face = \"bold\"),\n",
    "        axis.title.x = element_text(color = \"white\"),\n",
    "        axis.title.y = element_text(color = \"white\")\n",
    "    ) "
   ]
  },
  {
   "cell_type": "code",
   "execution_count": 43,
   "metadata": {},
   "outputs": [
    {
     "name": "stderr",
     "output_type": "stream",
     "text": [
      "`summarise()` ungrouping output (override with `.groups` argument)\n",
      "\n"
     ]
    }
   ],
   "source": [
    "# categories available in each shop\n",
    "\n",
    "item_category_per_shop = sales_train %>%\n",
    "    group_by(shop_id) %>%\n",
    "    summarise(item_category =  paste(sort(unique(item_category_id)), collapse = \", \")) \n",
    "\n"
   ]
  },
  {
   "cell_type": "code",
   "execution_count": 44,
   "metadata": {},
   "outputs": [
    {
     "data": {
      "text/html": [
       "<table>\n",
       "<caption>A tibble: 6 × 2</caption>\n",
       "<thead>\n",
       "\t<tr><th scope=col>shop_id</th><th scope=col>item_category</th></tr>\n",
       "\t<tr><th scope=col>&lt;int&gt;</th><th scope=col>&lt;chr&gt;</th></tr>\n",
       "</thead>\n",
       "<tbody>\n",
       "\t<tr><td>0</td><td>0, 1, 2, 3, 4, 5, 6, 11, 13, 14, 15, 19, 21, 22, 23, 25, 28, 29, 30, 33, 35, 37, 38, 40, 41, 43, 45, 49, 55, 56, 57, 59, 60, 62, 63, 64, 65, 67, 69, 70, 71, 72, 73, 75, 77, 81, 82, 83                                                    </td></tr>\n",
       "\t<tr><td>1</td><td>2, 3, 4, 5, 6, 11, 13, 14, 15, 19, 21, 22, 23, 25, 28, 29, 30, 33, 35, 37, 38, 40, 41, 49, 55, 56, 58, 62, 63, 64, 65, 67, 69, 70, 72, 73, 75, 77, 81, 82, 83                                                                              </td></tr>\n",
       "\t<tr><td>2</td><td>2, 3, 4, 5, 6, 7, 8, 11, 12, 13, 14, 15, 16, 17, 19, 20, 21, 22, 23, 24, 25, 28, 29, 30, 32, 33, 35, 37, 38, 39, 40, 41, 42, 43, 45, 47, 49, 55, 56, 57, 58, 59, 61, 62, 63, 64, 65, 67, 69, 70, 71, 72, 73, 75, 77, 79, 81, 82, 83        </td></tr>\n",
       "\t<tr><td>3</td><td>2, 3, 4, 5, 6, 7, 8, 11, 12, 13, 14, 15, 16, 17, 19, 20, 21, 22, 23, 24, 25, 28, 29, 30, 32, 33, 35, 37, 38, 40, 41, 42, 43, 45, 47, 49, 55, 56, 57, 58, 59, 60, 61, 62, 63, 64, 65, 67, 69, 70, 71, 72, 73, 75, 77, 79, 80, 83            </td></tr>\n",
       "\t<tr><td>4</td><td>2, 3, 4, 5, 6, 7, 8, 11, 12, 13, 14, 15, 16, 17, 19, 20, 21, 22, 23, 24, 25, 28, 29, 30, 32, 33, 35, 37, 38, 40, 41, 42, 43, 45, 47, 49, 52, 55, 56, 57, 58, 59, 60, 61, 62, 63, 64, 65, 67, 69, 70, 71, 72, 73, 75, 77, 79, 80, 81, 82, 83</td></tr>\n",
       "\t<tr><td>5</td><td>2, 3, 4, 5, 6, 7, 8, 11, 12, 13, 14, 15, 16, 17, 19, 20, 21, 22, 23, 24, 25, 28, 29, 30, 32, 33, 35, 37, 38, 39, 40, 41, 42, 43, 45, 46, 47, 49, 55, 56, 57, 58, 59, 60, 61, 62, 63, 64, 65, 67, 69, 70, 71, 72, 73, 75, 77, 79, 80, 83    </td></tr>\n",
       "</tbody>\n",
       "</table>\n"
      ],
      "text/latex": [
       "A tibble: 6 × 2\n",
       "\\begin{tabular}{ll}\n",
       " shop\\_id & item\\_category\\\\\n",
       " <int> & <chr>\\\\\n",
       "\\hline\n",
       "\t 0 & 0, 1, 2, 3, 4, 5, 6, 11, 13, 14, 15, 19, 21, 22, 23, 25, 28, 29, 30, 33, 35, 37, 38, 40, 41, 43, 45, 49, 55, 56, 57, 59, 60, 62, 63, 64, 65, 67, 69, 70, 71, 72, 73, 75, 77, 81, 82, 83                                                    \\\\\n",
       "\t 1 & 2, 3, 4, 5, 6, 11, 13, 14, 15, 19, 21, 22, 23, 25, 28, 29, 30, 33, 35, 37, 38, 40, 41, 49, 55, 56, 58, 62, 63, 64, 65, 67, 69, 70, 72, 73, 75, 77, 81, 82, 83                                                                              \\\\\n",
       "\t 2 & 2, 3, 4, 5, 6, 7, 8, 11, 12, 13, 14, 15, 16, 17, 19, 20, 21, 22, 23, 24, 25, 28, 29, 30, 32, 33, 35, 37, 38, 39, 40, 41, 42, 43, 45, 47, 49, 55, 56, 57, 58, 59, 61, 62, 63, 64, 65, 67, 69, 70, 71, 72, 73, 75, 77, 79, 81, 82, 83        \\\\\n",
       "\t 3 & 2, 3, 4, 5, 6, 7, 8, 11, 12, 13, 14, 15, 16, 17, 19, 20, 21, 22, 23, 24, 25, 28, 29, 30, 32, 33, 35, 37, 38, 40, 41, 42, 43, 45, 47, 49, 55, 56, 57, 58, 59, 60, 61, 62, 63, 64, 65, 67, 69, 70, 71, 72, 73, 75, 77, 79, 80, 83            \\\\\n",
       "\t 4 & 2, 3, 4, 5, 6, 7, 8, 11, 12, 13, 14, 15, 16, 17, 19, 20, 21, 22, 23, 24, 25, 28, 29, 30, 32, 33, 35, 37, 38, 40, 41, 42, 43, 45, 47, 49, 52, 55, 56, 57, 58, 59, 60, 61, 62, 63, 64, 65, 67, 69, 70, 71, 72, 73, 75, 77, 79, 80, 81, 82, 83\\\\\n",
       "\t 5 & 2, 3, 4, 5, 6, 7, 8, 11, 12, 13, 14, 15, 16, 17, 19, 20, 21, 22, 23, 24, 25, 28, 29, 30, 32, 33, 35, 37, 38, 39, 40, 41, 42, 43, 45, 46, 47, 49, 55, 56, 57, 58, 59, 60, 61, 62, 63, 64, 65, 67, 69, 70, 71, 72, 73, 75, 77, 79, 80, 83    \\\\\n",
       "\\end{tabular}\n"
      ],
      "text/markdown": [
       "\n",
       "A tibble: 6 × 2\n",
       "\n",
       "| shop_id &lt;int&gt; | item_category &lt;chr&gt; |\n",
       "|---|---|\n",
       "| 0 | 0, 1, 2, 3, 4, 5, 6, 11, 13, 14, 15, 19, 21, 22, 23, 25, 28, 29, 30, 33, 35, 37, 38, 40, 41, 43, 45, 49, 55, 56, 57, 59, 60, 62, 63, 64, 65, 67, 69, 70, 71, 72, 73, 75, 77, 81, 82, 83                                                     |\n",
       "| 1 | 2, 3, 4, 5, 6, 11, 13, 14, 15, 19, 21, 22, 23, 25, 28, 29, 30, 33, 35, 37, 38, 40, 41, 49, 55, 56, 58, 62, 63, 64, 65, 67, 69, 70, 72, 73, 75, 77, 81, 82, 83                                                                               |\n",
       "| 2 | 2, 3, 4, 5, 6, 7, 8, 11, 12, 13, 14, 15, 16, 17, 19, 20, 21, 22, 23, 24, 25, 28, 29, 30, 32, 33, 35, 37, 38, 39, 40, 41, 42, 43, 45, 47, 49, 55, 56, 57, 58, 59, 61, 62, 63, 64, 65, 67, 69, 70, 71, 72, 73, 75, 77, 79, 81, 82, 83         |\n",
       "| 3 | 2, 3, 4, 5, 6, 7, 8, 11, 12, 13, 14, 15, 16, 17, 19, 20, 21, 22, 23, 24, 25, 28, 29, 30, 32, 33, 35, 37, 38, 40, 41, 42, 43, 45, 47, 49, 55, 56, 57, 58, 59, 60, 61, 62, 63, 64, 65, 67, 69, 70, 71, 72, 73, 75, 77, 79, 80, 83             |\n",
       "| 4 | 2, 3, 4, 5, 6, 7, 8, 11, 12, 13, 14, 15, 16, 17, 19, 20, 21, 22, 23, 24, 25, 28, 29, 30, 32, 33, 35, 37, 38, 40, 41, 42, 43, 45, 47, 49, 52, 55, 56, 57, 58, 59, 60, 61, 62, 63, 64, 65, 67, 69, 70, 71, 72, 73, 75, 77, 79, 80, 81, 82, 83 |\n",
       "| 5 | 2, 3, 4, 5, 6, 7, 8, 11, 12, 13, 14, 15, 16, 17, 19, 20, 21, 22, 23, 24, 25, 28, 29, 30, 32, 33, 35, 37, 38, 39, 40, 41, 42, 43, 45, 46, 47, 49, 55, 56, 57, 58, 59, 60, 61, 62, 63, 64, 65, 67, 69, 70, 71, 72, 73, 75, 77, 79, 80, 83     |\n",
       "\n"
      ],
      "text/plain": [
       "  shop_id\n",
       "1 0      \n",
       "2 1      \n",
       "3 2      \n",
       "4 3      \n",
       "5 4      \n",
       "6 5      \n",
       "  item_category                                                                                                                                                                                                                              \n",
       "1 0, 1, 2, 3, 4, 5, 6, 11, 13, 14, 15, 19, 21, 22, 23, 25, 28, 29, 30, 33, 35, 37, 38, 40, 41, 43, 45, 49, 55, 56, 57, 59, 60, 62, 63, 64, 65, 67, 69, 70, 71, 72, 73, 75, 77, 81, 82, 83                                                    \n",
       "2 2, 3, 4, 5, 6, 11, 13, 14, 15, 19, 21, 22, 23, 25, 28, 29, 30, 33, 35, 37, 38, 40, 41, 49, 55, 56, 58, 62, 63, 64, 65, 67, 69, 70, 72, 73, 75, 77, 81, 82, 83                                                                              \n",
       "3 2, 3, 4, 5, 6, 7, 8, 11, 12, 13, 14, 15, 16, 17, 19, 20, 21, 22, 23, 24, 25, 28, 29, 30, 32, 33, 35, 37, 38, 39, 40, 41, 42, 43, 45, 47, 49, 55, 56, 57, 58, 59, 61, 62, 63, 64, 65, 67, 69, 70, 71, 72, 73, 75, 77, 79, 81, 82, 83        \n",
       "4 2, 3, 4, 5, 6, 7, 8, 11, 12, 13, 14, 15, 16, 17, 19, 20, 21, 22, 23, 24, 25, 28, 29, 30, 32, 33, 35, 37, 38, 40, 41, 42, 43, 45, 47, 49, 55, 56, 57, 58, 59, 60, 61, 62, 63, 64, 65, 67, 69, 70, 71, 72, 73, 75, 77, 79, 80, 83            \n",
       "5 2, 3, 4, 5, 6, 7, 8, 11, 12, 13, 14, 15, 16, 17, 19, 20, 21, 22, 23, 24, 25, 28, 29, 30, 32, 33, 35, 37, 38, 40, 41, 42, 43, 45, 47, 49, 52, 55, 56, 57, 58, 59, 60, 61, 62, 63, 64, 65, 67, 69, 70, 71, 72, 73, 75, 77, 79, 80, 81, 82, 83\n",
       "6 2, 3, 4, 5, 6, 7, 8, 11, 12, 13, 14, 15, 16, 17, 19, 20, 21, 22, 23, 24, 25, 28, 29, 30, 32, 33, 35, 37, 38, 39, 40, 41, 42, 43, 45, 46, 47, 49, 55, 56, 57, 58, 59, 60, 61, 62, 63, 64, 65, 67, 69, 70, 71, 72, 73, 75, 77, 79, 80, 83    "
      ]
     },
     "metadata": {},
     "output_type": "display_data"
    }
   ],
   "source": [
    "head(item_category_per_shop)"
   ]
  },
  {
   "cell_type": "code",
   "execution_count": 45,
   "metadata": {},
   "outputs": [
    {
     "name": "stderr",
     "output_type": "stream",
     "text": [
      "`summarise()` regrouping output by 'item_category_id' (override with `.groups` argument)\n",
      "\n"
     ]
    }
   ],
   "source": [
    "most_sold_item_per_category = sales_train %>%\n",
    "    group_by(item_category_id, item_id) %>%\n",
    "    summarise(total_sales = sum(item_price * item_cnt_day)) %>%\n",
    "    filter(total_sales == max(total_sales)) %>%\n",
    "    arrange(desc(total_sales))"
   ]
  },
  {
   "cell_type": "code",
   "execution_count": 46,
   "metadata": {},
   "outputs": [
    {
     "name": "stderr",
     "output_type": "stream",
     "text": [
      "Warning message:\n",
      "\"Ignoring unknown parameters: binwidth, bins, pad\"\n"
     ]
    },
    {
     "data": {
      "image/png": "[encoded data removed]",
      "text/plain": [
       "plot without title"
      ]
     },
     "metadata": {
      "image/png": {
       "height": 420,
       "width": 420
      }
     },
     "output_type": "display_data"
    }
   ],
   "source": [
    "ggplot(most_sold_item_per_category,\n",
    "       aes(x = reorder(item_category_id, total_sales), \n",
    "           y = total_sales,\n",
    "           fill = factor(item_id))) +\n",
    "    geom_histogram(stat = \"identity\", color = \"yellow\") +\n",
    "    labs(title = \"Items sold per category\",x = \"Category ID\", y = \"Sales\", fill = \"Item ID\") +\n",
    "    coord_flip()+ \n",
    "    theme(\n",
    "        # get rid of panel grids\n",
    "        panel.grid.major = element_blank(),\n",
    "        panel.grid.minor = element_line(colour = \"gray\",linetype = \"dotted\"),\n",
    "        # Change plot and panel background\n",
    "        plot.background=element_rect(fill = \"black\"),\n",
    "        panel.background = element_rect(fill = 'black'),\n",
    "        # Change legend \n",
    "        # legend.position = c(0.6, 0.07),\n",
    "        # legend.direction = \"horizontal\",\n",
    "        legend.background = element_rect(fill = \"black\", color = NA),\n",
    "        legend.key = element_rect(color = \"gray\", fill = \"black\"),\n",
    "        legend.title = element_text(color = \"white\"),\n",
    "        legend.text = element_text(color = \"white\"),\n",
    "        # align title to top center, top ledt is by default.\n",
    "        plot.title = element_text(color = \"white\", hjust = 0.5, face = \"bold\"),\n",
    "        # axis ticks to bold black\n",
    "        axis.text=element_text(colour = \"yellow\",face = \"bold\"),\n",
    "        axis.title.x = element_text(color = \"white\"),\n",
    "        axis.title.y = element_text(color = \"white\")\n",
    "    )"
   ]
  },
  {
   "cell_type": "code",
   "execution_count": 47,
   "metadata": {},
   "outputs": [
    {
     "name": "stderr",
     "output_type": "stream",
     "text": [
      "`summarise()` regrouping output by 'month' (override with `.groups` argument)\n",
      "\n"
     ]
    },
    {
     "data": {
      "image/png": "[encoded data removed]",
      "text/plain": [
       "plot without title"
      ]
     },
     "metadata": {
      "image/png": {
       "height": 420,
       "width": 420
      }
     },
     "output_type": "display_data"
    }
   ],
   "source": [
    "# day and month total sales \n",
    "day_month_total_sales =  sales_train %>%\n",
    "    group_by(month, day) %>%\n",
    "    summarise(total_sales =  sum(item_price * item_cnt_day))\n",
    "\n",
    "ggplot(day_month_total_sales, \n",
    "       aes(x = day, \n",
    "           y = total_sales, \n",
    "           group =  month, \n",
    "           color =  factor(month))) +\n",
    "    geom_line() + \n",
    "    geom_point() +\n",
    "    labs(title = \"Total Sales month day\", x = \"Days\", y = \"Total sales\", fill = \"Months\") +\n",
    "    theme(\n",
    "        # get rid of panel grids\n",
    "        panel.grid.major = element_blank(),\n",
    "        panel.grid.minor = element_line(colour = \"gray\",linetype = \"dotted\"),\n",
    "        # Change plot and panel background\n",
    "        plot.background=element_rect(fill = \"black\"),\n",
    "        panel.background = element_rect(fill = 'black'),\n",
    "        # Change legend \n",
    "        # legend.position = c(0.6, 0.07),\n",
    "        # legend.direction = \"horizontal\",\n",
    "        legend.background = element_rect(fill = \"black\", color = NA),\n",
    "        legend.key = element_rect(color = \"gray\", fill = \"black\"),\n",
    "        legend.title = element_text(color = \"white\"),\n",
    "        legend.text = element_text(color = \"white\"),\n",
    "        # align title to top center, top ledt is by default.\n",
    "        plot.title = element_text(color = \"white\", hjust = 0.5, face = \"bold\"),\n",
    "        # axis ticks to bold black\n",
    "        axis.text=element_text(colour = \"yellow\",face = \"bold\"),\n",
    "        axis.title.x = element_text(color = \"white\"),\n",
    "        axis.title.y = element_text(color = \"white\")\n",
    "    )"
   ]
  },
  {
   "cell_type": "code",
   "execution_count": 37,
   "metadata": {},
   "outputs": [
    {
     "name": "stderr",
     "output_type": "stream",
     "text": [
      "Warning message:\n",
      "\"Ignoring unknown parameters: binwidth, bins, pad\"\n"
     ]
    },
    {
     "data": {
      "image/png": "[encoded data removed]",
      "text/plain": [
       "plot without title"
      ]
     },
     "metadata": {
      "image/png": {
       "height": 420,
       "width": 420
      }
     },
     "output_type": "display_data"
    }
   ],
   "source": [
    "ggplot(day_month_total_sales, \n",
    "       aes(x = day, \n",
    "           y = total_sales, \n",
    "           fill =  factor(day))) +\n",
    "    geom_histogram(stat = \"identity\", color = \"yellow\") +\n",
    "    labs(title = \"Total Sales month-day \", x = \"Days\", y = \"Total sales\", fill = \"Days\") +\n",
    "    facet_wrap(~month, ncol = 2)+\n",
    "    theme(\n",
    "        # get rid of panel grids\n",
    "        panel.grid.major = element_blank(),\n",
    "        panel.grid.minor = element_line(colour = \"gray\",linetype = \"dotted\"),\n",
    "        # Change plot and panel background\n",
    "        plot.background=element_rect(fill = \"black\"),\n",
    "        panel.background = element_rect(fill = 'black'),\n",
    "        # Change legend \n",
    "        # legend.position = c(0.6, 0.07),\n",
    "        # legend.direction = \"horizontal\",\n",
    "        legend.background = element_rect(fill = \"black\", color = NA),\n",
    "        legend.key = element_rect(color = \"gray\", fill = \"black\"),\n",
    "        legend.title = element_text(color = \"white\"),\n",
    "        legend.text = element_text(color = \"white\"),\n",
    "        # align title to top center, top ledt is by default.\n",
    "        plot.title = element_text(color = \"white\", hjust = 0.5, face = \"bold\"),\n",
    "        # axis ticks to bold black\n",
    "        axis.text=element_text(colour = \"yellow\",face = \"bold\"),\n",
    "        axis.title.x = element_text(color = \"white\"),\n",
    "        axis.title.y = element_text(color = \"white\")\n",
    "    ) \n"
   ]
  },
  {
   "cell_type": "code",
   "execution_count": 48,
   "metadata": {},
   "outputs": [
    {
     "name": "stderr",
     "output_type": "stream",
     "text": [
      "`summarise()` ungrouping output (override with `.groups` argument)\n",
      "\n"
     ]
    }
   ],
   "source": [
    "# year total sales\n",
    "yearly_sales = sales_train %>%\n",
    "    group_by(year) %>%\n",
    "    summarise(yearly_sale = sum(item_price * item_cnt_day))"
   ]
  },
  {
   "cell_type": "code",
   "execution_count": 49,
   "metadata": {},
   "outputs": [
    {
     "name": "stderr",
     "output_type": "stream",
     "text": [
      "Warning message:\n",
      "\"Ignoring unknown parameters: binwidth, bins, pad\"\n"
     ]
    },
    {
     "data": {
      "image/png": "[encoded data removed]",
      "text/plain": [
       "plot without title"
      ]
     },
     "metadata": {
      "image/png": {
       "height": 420,
       "width": 420
      }
     },
     "output_type": "display_data"
    }
   ],
   "source": [
    "ggplot(yearly_sales, aes(x =  year, y = yearly_sale, fill =  factor(year)))+\n",
    "    geom_histogram(stat = \"identity\", color = \"yellow\")+\n",
    "    labs(title = \"Yearly Sales\", x = \"Year\", y = \"Total Sale\", fill = \"Year\")+\n",
    "    geom_label(stat = \"identity\",position = position_dodge(width = 1),hjust = \"center\", aes(label = yearly_sale)) +\n",
    "    theme(\n",
    "        # get rid of panel grids\n",
    "        panel.grid.major = element_blank(),\n",
    "        panel.grid.minor = element_line(colour = \"gray\",linetype = \"dotted\"),\n",
    "        # Change plot and panel background\n",
    "        plot.background=element_rect(fill = \"black\"),\n",
    "        panel.background = element_rect(fill = 'black'),\n",
    "        # Change legend \n",
    "        # legend.position = c(0.6, 0.07),\n",
    "        # legend.direction = \"horizontal\",\n",
    "        legend.background = element_rect(fill = \"black\", color = NA),\n",
    "        legend.key = element_rect(color = \"gray\", fill = \"black\"),\n",
    "        legend.title = element_text(color = \"white\"),\n",
    "        legend.text = element_text(color = \"white\"),\n",
    "        # align title to top center, top ledt is by default.\n",
    "        plot.title = element_text(color = \"white\", hjust = 0.5, face = \"bold\"),\n",
    "        # axis ticks to bold black\n",
    "        axis.text=element_text(colour = \"yellow\",face = \"bold\"),\n",
    "        axis.title.x = element_text(color = \"white\"),\n",
    "        axis.title.y = element_text(color = \"white\")\n",
    "    ) "
   ]
  },
  {
   "cell_type": "code",
   "execution_count": 50,
   "metadata": {},
   "outputs": [
    {
     "name": "stderr",
     "output_type": "stream",
     "text": [
      "`summarise()` regrouping output by 'year' (override with `.groups` argument)\n",
      "\n"
     ]
    }
   ],
   "source": [
    "year_month_sales = sales_train %>%\n",
    "    group_by(year, month) %>%\n",
    "    summarise(year_month_sale = sum(item_price*item_cnt_day)) %>%\n",
    "    arrange(year)"
   ]
  },
  {
   "cell_type": "code",
   "execution_count": 51,
   "metadata": {},
   "outputs": [],
   "source": [
    "year_month_sales$year_month_sale = round(year_month_sales$year_month_sale, 2)"
   ]
  },
  {
   "cell_type": "code",
   "execution_count": 52,
   "metadata": {},
   "outputs": [
    {
     "name": "stderr",
     "output_type": "stream",
     "text": [
      "Warning message:\n",
      "\"Ignoring unknown parameters: binwidth, bins, pad\"\n"
     ]
    },
    {
     "data": {
      "image/png": "[encoded data removed]",
      "text/plain": [
       "plot without title"
      ]
     },
     "metadata": {
      "image/png": {
       "height": 420,
       "width": 420
      }
     },
     "output_type": "display_data"
    }
   ],
   "source": [
    "ggplot(year_month_sales, aes(x =  month, y = year_month_sale, fill =  factor(year)))+\n",
    "    geom_histogram(stat = \"identity\", position = \"dodge\", color = \"yellow\") +\n",
    "    labs(title = \"Yearly-Monthly sales\", x = \"Months\", y =  \"Total sales\", fill = \"Year\")+\n",
    "    # geom_label(stat = \"identity\",position = position_dodge(width = 1),hjust = \"center\", aes(label = ym_sale)) +\n",
    "    theme(\n",
    "        # get rid of panel grids\n",
    "        panel.grid.major = element_blank(),\n",
    "        panel.grid.minor = element_line(colour = \"gray\",linetype = \"dotted\"),\n",
    "        # Change plot and panel background\n",
    "        plot.background=element_rect(fill = \"black\"),\n",
    "        panel.background = element_rect(fill = 'black'),\n",
    "        # Change legend \n",
    "        # legend.position = c(0.6, 0.07),\n",
    "        # legend.direction = \"horizontal\",\n",
    "        legend.background = element_rect(fill = \"black\", color = NA),\n",
    "        legend.key = element_rect(color = \"gray\", fill = \"black\"),\n",
    "        legend.title = element_text(color = \"white\"),\n",
    "        legend.text = element_text(color = \"white\"),\n",
    "        # align title to top center, top ledt is by default.\n",
    "        plot.title = element_text(color = \"white\", hjust = 0.5, face = \"bold\"),\n",
    "        # axis ticks to bold black\n",
    "        axis.text=element_text(colour = \"yellow\",face = \"bold\"),\n",
    "        axis.title.x = element_text(color = \"white\"),\n",
    "        axis.title.y = element_text(color = \"white\")\n",
    "    ) "
   ]
  },
  {
   "cell_type": "code",
   "execution_count": 53,
   "metadata": {},
   "outputs": [
    {
     "name": "stderr",
     "output_type": "stream",
     "text": [
      "`summarise()` ungrouping output (override with `.groups` argument)\n",
      "\n"
     ]
    }
   ],
   "source": [
    "# number of items sold each day\n",
    "\n",
    "daily_sale = sales_train %>%\n",
    "    group_by(date) %>%\n",
    "    summarise(items_sold =  sum(item_cnt_day))"
   ]
  },
  {
   "cell_type": "code",
   "execution_count": 54,
   "metadata": {
    "scrolled": true
   },
   "outputs": [
    {
     "data": {
      "image/png": "[encoded data removed]",
      "text/plain": [
       "plot without title"
      ]
     },
     "metadata": {
      "image/png": {
       "height": 420,
       "width": 420
      }
     },
     "output_type": "display_data"
    }
   ],
   "source": [
    "ggplot(daily_sale, aes(x =  date, y = items_sold, color =  items_sold)) +\n",
    "    geom_line() +\n",
    "    geom_point()+\n",
    "    labs(title = \"Daily Item sold\", x =  \"Date\", y = \"Items sold\")+\n",
    "    theme(\n",
    "        # get rid of panel grids\n",
    "        panel.grid.major = element_blank(),\n",
    "        panel.grid.minor = element_line(colour = \"gray\",linetype = \"dotted\"),\n",
    "        # Change plot and panel background\n",
    "        plot.background=element_rect(fill = \"black\"),\n",
    "        panel.background = element_rect(fill = 'black'),\n",
    "        # Change legend \n",
    "        # legend.position = c(0.6, 0.07),\n",
    "        # legend.direction = \"horizontal\",\n",
    "        legend.background = element_rect(fill = \"black\", color = NA),\n",
    "        legend.key = element_rect(color = \"gray\", fill = \"black\"),\n",
    "        legend.title = element_text(color = \"white\"),\n",
    "        legend.text = element_text(color = \"white\"),\n",
    "        # align title to top center, top ledt is by default.\n",
    "        plot.title = element_text(color = \"white\", hjust = 0.5, face = \"bold\"),\n",
    "        # axis ticks to bold black\n",
    "        axis.text=element_text(colour = \"yellow\",face = \"bold\"),\n",
    "        axis.title.x = element_text(color = \"white\"),\n",
    "        axis.title.y = element_text(color = \"white\")\n",
    "    )"
   ]
  },
  {
   "cell_type": "code",
   "execution_count": 55,
   "metadata": {},
   "outputs": [
    {
     "name": "stderr",
     "output_type": "stream",
     "text": [
      "`summarise()` ungrouping output (override with `.groups` argument)\n",
      "\n"
     ]
    },
    {
     "data": {
      "image/png": "[encoded data removed]",
      "text/plain": [
       "plot without title"
      ]
     },
     "metadata": {
      "image/png": {
       "height": 420,
       "width": 420
      }
     },
     "output_type": "display_data"
    }
   ],
   "source": [
    "# items sold on weekdays\n",
    "\n",
    "weekdays_item_sold = sales_train %>%\n",
    "    group_by(weekdays) %>%\n",
    "    summarise(item_sold = sum(item_cnt_day)) %>%\n",
    "    arrange(desc(item_sold))\n",
    "\n",
    "ggplot(weekdays_item_sold, aes(x =reorder(weekdays, item_sold), y =  item_sold, fill = factor(weekdays)))+\n",
    "    geom_bar(stat = \"identity\", color = \"yellow\") +\n",
    "    labs(title = \"Items sold on weekdays\", x = \"Week Days\", y =  \"Items sold\", fill = \"Week Days\") +\n",
    "    geom_label(stat = \"identity\",position = position_dodge(width = 1),hjust = \"center\", aes(label = item_sold)) +\n",
    "    coord_flip()+\n",
    "    theme(\n",
    "        # get rid of panel grids\n",
    "        panel.grid.major = element_blank(),\n",
    "        panel.grid.minor = element_line(colour = \"gray\",linetype = \"dotted\"),\n",
    "        # Change plot and panel background\n",
    "        plot.background=element_rect(fill = \"black\"),\n",
    "        panel.background = element_rect(fill = 'black'),\n",
    "        # Change legend \n",
    "        # legend.position = c(0.6, 0.07),\n",
    "        # legend.direction = \"horizontal\",\n",
    "        legend.background = element_rect(fill = \"black\", color = NA),\n",
    "        legend.key = element_rect(color = \"gray\", fill = \"black\"),\n",
    "        legend.title = element_text(color = \"white\"),\n",
    "        legend.text = element_text(color = \"white\"),\n",
    "        # align title to top center, top ledt is by default.\n",
    "        plot.title = element_text(color = \"white\", hjust = 0.5, face = \"bold\"),\n",
    "        # axis ticks to bold black\n",
    "        axis.text=element_text(colour = \"yellow\",face = \"bold\"),\n",
    "        axis.title.x = element_text(color = \"white\"),\n",
    "        axis.title.y = element_text(color = \"white\")\n",
    "    )"
   ]
  },
  {
   "cell_type": "code",
   "execution_count": 56,
   "metadata": {},
   "outputs": [
    {
     "name": "stderr",
     "output_type": "stream",
     "text": [
      "`summarise()` ungrouping output (override with `.groups` argument)\n",
      "\n"
     ]
    },
    {
     "data": {
      "image/png": "[encoded data removed]",
      "text/plain": [
       "plot without title"
      ]
     },
     "metadata": {
      "image/png": {
       "height": 420,
       "width": 420
      }
     },
     "output_type": "display_data"
    }
   ],
   "source": [
    "# sale profit on weekdays\n",
    "weekdays_sales = sales_train %>%\n",
    "    group_by(weekdays) %>%\n",
    "    summarise(total_sale = sum(item_cnt_day * item_price)) %>%\n",
    "    arrange(desc(total_sale))\n",
    "weekdays_sales$total_sale = round(weekdays_sales$total_sale, 2)\n",
    "\n",
    "ggplot(weekdays_sales, aes(x =reorder(weekdays, total_sale), y =  total_sale, fill = factor(weekdays)))+\n",
    "    geom_bar(stat = \"identity\", color =\"yellow\") +\n",
    "    labs(title = \"Sales on weekdays\", x = \"Week Days\", y =  \"Items sold\", fill = \"Week Days\") +\n",
    "    coord_flip()+\n",
    "    geom_label(stat = \"identity\",position = position_dodge(width = 1),hjust = \"center\", aes(label = total_sale)) +\n",
    "    theme(\n",
    "        # get rid of panel grids\n",
    "        panel.grid.major = element_blank(),\n",
    "        panel.grid.minor = element_line(colour = \"gray\",linetype = \"dotted\"),\n",
    "        # Change plot and panel background\n",
    "        plot.background=element_rect(fill = \"black\"),\n",
    "        panel.background = element_rect(fill = 'black'),\n",
    "        # Change legend \n",
    "        # legend.position = c(0.6, 0.07),\n",
    "        # legend.direction = \"horizontal\",\n",
    "        legend.background = element_rect(fill = \"black\", color = NA),\n",
    "        legend.key = element_rect(color = \"gray\", fill = \"black\"),\n",
    "        legend.title = element_text(color = \"white\"),\n",
    "        legend.text = element_text(color = \"white\"),\n",
    "        # align title to top center, top ledt is by default.\n",
    "        plot.title = element_text(color = \"white\", hjust = 0.5, face = \"bold\"),\n",
    "        # axis ticks to bold black\n",
    "        axis.text=element_text(colour = \"yellow\",face = \"bold\"),\n",
    "        axis.title.x = element_text(color = \"white\"),\n",
    "        axis.title.y = element_text(color = \"white\")\n",
    "    )"
   ]
  },
  {
   "cell_type": "markdown",
   "metadata": {},
   "source": [
    "# Model Choice: GBM\n",
    "##### Gradient boosting is a machine learning technique for regression and classification problems, which produces a prediction model in the form of an ensemble of weak prediction models, typically decision trees. It builds the model in a stage-wise fashion like other boosting methods do, and it generalizes them by allowing optimization of an arbitrary differentiable loss function."
   ]
  },
  {
   "cell_type": "markdown",
   "metadata": {},
   "source": [
    "# Training"
   ]
  },
  {
   "cell_type": "code",
   "execution_count": 102,
   "metadata": {},
   "outputs": [
    {
     "name": "stdout",
     "output_type": "stream",
     "text": [
      "Iter   TrainDeviance   ValidDeviance   StepSize   Improve\n",
      "     1        6.0237         10.1986     0.0100    0.0009\n",
      "     2        6.0227         10.1987     0.0100    0.0010\n",
      "     3        6.0218         10.1988     0.0100    0.0010\n",
      "     4        6.0206         10.1989     0.0100    0.0009\n",
      "     5        6.0195         10.1990     0.0100    0.0008\n",
      "     6        6.0185         10.1991     0.0100    0.0009\n",
      "     7        6.0175         10.1992     0.0100    0.0009\n",
      "     8        6.0166         10.1993     0.0100    0.0008\n",
      "     9        6.0159         10.1994     0.0100    0.0007\n",
      "    10        6.0152         10.1995     0.0100    0.0007\n",
      "    20        6.0049         10.2012     0.0100    0.0007\n",
      "    40        5.9870         10.2045     0.0100    0.0004\n",
      "    60        5.9715         10.2079     0.0100    0.0006\n",
      "    80        5.9612         10.2104     0.0100    0.0006\n",
      "   100        5.9541         10.2132     0.0100    0.0002\n",
      "   120        5.9433         10.2137     0.0100    0.0005\n",
      "   140        5.9328         10.2137     0.0100    0.0006\n",
      "   160        5.9246         10.2137     0.0100    0.0001\n",
      "   180        5.9153         10.2136     0.0100    0.0003\n",
      "   200        5.9070         10.2139     0.0100    0.0005\n",
      "   220        5.9005         10.2143     0.0100    0.0001\n",
      "   240        5.8913         10.2152     0.0100    0.0004\n",
      "   260        5.8869         10.2159     0.0100    0.0001\n",
      "   280        5.8827         10.2163     0.0100    0.0001\n",
      "   300        5.8777         10.2178     0.0100    0.0002\n",
      "   320        5.8738         10.2188     0.0100    0.0001\n",
      "   340        5.8705         10.2198     0.0100    0.0001\n",
      "   360        5.8667         10.2202     0.0100    0.0000\n",
      "   380        5.8640         10.2213     0.0100    0.0002\n",
      "   400        5.8605         10.2218     0.0100    0.0001\n",
      "   420        5.8582         10.2223     0.0100    0.0000\n",
      "   440        5.8557         10.2225     0.0100    0.0001\n",
      "   460        5.8523         10.2231     0.0100    0.0002\n",
      "   480        5.8490         10.2229     0.0100    0.0000\n",
      "   500        5.8469         10.2233     0.0100    0.0001\n",
      "   520        5.8446         10.2239     0.0100    0.0000\n",
      "   540        5.8425         10.2242     0.0100    0.0001\n",
      "   560        5.8411         10.2241     0.0100    0.0000\n",
      "   580        5.8372         10.2246     0.0100   -0.0000\n",
      "   600        5.8333         10.2251     0.0100    0.0000\n",
      "   620        5.8319         10.2253     0.0100    0.0001\n",
      "   640        5.8295         10.2256     0.0100    0.0000\n",
      "   660        5.8270         10.2259     0.0100    0.0000\n",
      "   680        5.8243         10.2261     0.0100    0.0001\n",
      "   700        5.8215         10.2260     0.0100    0.0000\n",
      "   720        5.8200         10.2260     0.0100    0.0001\n",
      "   740        5.8179         10.2260     0.0100    0.0000\n",
      "   760        5.8158         10.2264     0.0100   -0.0001\n",
      "   780        5.8126         10.2262     0.0100    0.0001\n",
      "   800        5.8112         10.2259     0.0100    0.0000\n",
      "   820        5.8092         10.2257     0.0100    0.0000\n",
      "   840        5.8070         10.2259     0.0100    0.0001\n",
      "   860        5.8053         10.2255     0.0100    0.0000\n",
      "   880        5.8035         10.2257     0.0100    0.0000\n",
      "   900        5.8005         10.2256     0.0100    0.0000\n",
      "   920        5.7990         10.2252     0.0100    0.0000\n",
      "   940        5.7982         10.2249     0.0100    0.0001\n",
      "   960        5.7967         10.2247     0.0100    0.0000\n",
      "   980        5.7951         10.2243     0.0100    0.0000\n",
      "  1000        5.7936         10.2244     0.0100   -0.0000\n",
      "\n"
     ]
    }
   ],
   "source": [
    "# GBM Model\n",
    "\n",
    "gbm_model  =  gbm(item_cnt_day ~ shop_id + item_id,\n",
    "                  data = sales_train,\n",
    "                  shrinkage = 0.01,\n",
    "                  distribution = \"gaussian\",\n",
    "                  n.trees = 1000,\n",
    "                  interaction.depth = 5, \n",
    "                  bag.fraction = 0.5,\n",
    "                  train.fraction = 0.8,\n",
    "                  # cv.folds = 5,\n",
    "                  n.cores = -1,\n",
    "                  verbose = T)"
   ]
  },
  {
   "cell_type": "markdown",
   "metadata": {},
   "source": [
    "## Dividing total_train to sub_train and sub_test data"
   ]
  },
  {
   "cell_type": "code",
   "execution_count": 80,
   "metadata": {},
   "outputs": [
    {
     "name": "stderr",
     "output_type": "stream",
     "text": [
      "Warning message in set.seed(2020, sample.kind = \"Rounding\"):\n",
      "\"non-uniform 'Rounding' sampler used\"\n"
     ]
    }
   ],
   "source": [
    "sales_shop_train = left_join(sales_train, shops, by = c('shop_id'))\n",
    "total_train = left_join(sales_shop_train, items, by = c('item_id'))\n",
    "#total_train = left_join(total_train, item_categories, by = c('item_category_id'))\n",
    "total_train$date =  as.Date(total_train$date, format = \"%d.%m.%Y\")\n",
    "\n",
    "#divide total train to train and test data\n",
    "total_train$date =  as_datetime(total_train$date)\n",
    "total_train = total_train %>% mutate(year = round_date(total_train$date, unit = \"year\"))\n",
    "total_train = total_train %>% mutate(month = round_date(total_train$date, unit = \"month\"))\n",
    "total_train = total_train %>% mutate(day = round_date(total_train$date, unit = \"day\"))\n",
    "\n",
    "set.seed(2020, sample.kind = \"Rounding\")\n",
    "\n",
    "test_partition <- createDataPartition(y = total_train$item_cnt_day, times = 1, p = 0.1, list= FALSE)\n",
    "sub_train <- total_train[-test_partition, ]\n",
    "sub_test <- total_train[test_partition, ]\n",
    "test1=total_train$item_cnt_day[test_partition]"
   ]
  },
  {
   "cell_type": "code",
   "execution_count": 69,
   "metadata": {},
   "outputs": [
    {
     "data": {
      "text/html": [
       "2642263"
      ],
      "text/latex": [
       "2642263"
      ],
      "text/markdown": [
       "2642263"
      ],
      "text/plain": [
       "[1] 2642263"
      ]
     },
     "metadata": {},
     "output_type": "display_data"
    },
    {
     "data": {
      "text/html": [
       "293586"
      ],
      "text/latex": [
       "293586"
      ],
      "text/markdown": [
       "293586"
      ],
      "text/plain": [
       "[1] 293586"
      ]
     },
     "metadata": {},
     "output_type": "display_data"
    }
   ],
   "source": [
    "nrow(sub_train)\n",
    "nrow(sub_test)"
   ]
  },
  {
   "cell_type": "code",
   "execution_count": 72,
   "metadata": {},
   "outputs": [
    {
     "data": {
      "text/html": [
       "<table>\n",
       "<caption>A data.frame: 6 × 14</caption>\n",
       "<thead>\n",
       "\t<tr><th></th><th scope=col>item_id</th><th scope=col>date</th><th scope=col>date_block_num</th><th scope=col>shop_id</th><th scope=col>item_price</th><th scope=col>item_cnt_day</th><th scope=col>item_category_id.x</th><th scope=col>year</th><th scope=col>month</th><th scope=col>day</th><th scope=col>weekdays</th><th scope=col>shop_name</th><th scope=col>item_name</th><th scope=col>item_category_id.y</th></tr>\n",
       "\t<tr><th></th><th scope=col>&lt;int&gt;</th><th scope=col>&lt;dttm&gt;</th><th scope=col>&lt;int&gt;</th><th scope=col>&lt;int&gt;</th><th scope=col>&lt;dbl&gt;</th><th scope=col>&lt;dbl&gt;</th><th scope=col>&lt;fct&gt;</th><th scope=col>&lt;dttm&gt;</th><th scope=col>&lt;dttm&gt;</th><th scope=col>&lt;dttm&gt;</th><th scope=col>&lt;fct&gt;</th><th scope=col>&lt;chr&gt;</th><th scope=col>&lt;chr&gt;</th><th scope=col>&lt;int&gt;</th></tr>\n",
       "</thead>\n",
       "<tbody>\n",
       "\t<tr><th scope=row>1</th><td>27</td><td>2013-11-30</td><td>10</td><td>21</td><td>1198.0</td><td>1</td><td>19</td><td>2014-01-01</td><td>2013-12-01</td><td>2013-11-30</td><td>суббота    </td><td>Москва МТРЦ \"Афи Молл\"        </td><td>007 Legends [PS3, русская версия]      </td><td>19</td></tr>\n",
       "\t<tr><th scope=row>2</th><td>27</td><td>2013-10-14</td><td> 9</td><td> 7</td><td> 838.6</td><td>1</td><td>19</td><td>2014-01-01</td><td>2013-10-01</td><td>2013-10-14</td><td>понедельник</td><td>Воронеж ТРЦ \"Максимир\"        </td><td>007 Legends [PS3, русская версия]      </td><td>19</td></tr>\n",
       "\t<tr><th scope=row>3</th><td>27</td><td>2013-10-16</td><td> 9</td><td>27</td><td> 838.0</td><td>1</td><td>19</td><td>2014-01-01</td><td>2013-10-01</td><td>2013-10-16</td><td>среда      </td><td>Москва ТЦ \"МЕГА Белая Дача II\"</td><td>007 Legends [PS3, русская версия]      </td><td>19</td></tr>\n",
       "\t<tr><th scope=row>4</th><td>27</td><td>2014-03-18</td><td>14</td><td>26</td><td> 998.0</td><td>1</td><td>19</td><td>2014-01-01</td><td>2014-04-01</td><td>2014-03-18</td><td>вторник    </td><td>Москва ТЦ \"Ареал\" (Беляево)   </td><td>007 Legends [PS3, русская версия]      </td><td>19</td></tr>\n",
       "\t<tr><th scope=row>5</th><td>28</td><td>2013-09-18</td><td> 8</td><td>54</td><td> 249.0</td><td>1</td><td>30</td><td>2014-01-01</td><td>2013-10-01</td><td>2013-09-18</td><td>среда      </td><td>Химки ТЦ \"Мега\"               </td><td>007 Legends [PС, Jewel, русская версия]</td><td>30</td></tr>\n",
       "\t<tr><th scope=row>6</th><td>28</td><td>2013-04-16</td><td> 3</td><td>12</td><td> 398.0</td><td>1</td><td>30</td><td>2013-01-01</td><td>2013-05-01</td><td>2013-04-16</td><td>вторник    </td><td>Интернет-магазин ЧС           </td><td>007 Legends [PС, Jewel, русская версия]</td><td>30</td></tr>\n",
       "</tbody>\n",
       "</table>\n"
      ],
      "text/latex": [
       "A data.frame: 6 × 14\n",
       "\\begin{tabular}{r|llllllllllllll}\n",
       "  & item\\_id & date & date\\_block\\_num & shop\\_id & item\\_price & item\\_cnt\\_day & item\\_category\\_id.x & year & month & day & weekdays & shop\\_name & item\\_name & item\\_category\\_id.y\\\\\n",
       "  & <int> & <dttm> & <int> & <int> & <dbl> & <dbl> & <fct> & <dttm> & <dttm> & <dttm> & <fct> & <chr> & <chr> & <int>\\\\\n",
       "\\hline\n",
       "\t1 & 27 & 2013-11-30 & 10 & 21 & 1198.0 & 1 & 19 & 2014-01-01 & 2013-12-01 & 2013-11-30 & суббота     & Москва МТРЦ \"Афи Молл\"         & 007 Legends {[}PS3, русская версия{]}       & 19\\\\\n",
       "\t2 & 27 & 2013-10-14 &  9 &  7 &  838.6 & 1 & 19 & 2014-01-01 & 2013-10-01 & 2013-10-14 & понедельник & Воронеж ТРЦ \"Максимир\"         & 007 Legends {[}PS3, русская версия{]}       & 19\\\\\n",
       "\t3 & 27 & 2013-10-16 &  9 & 27 &  838.0 & 1 & 19 & 2014-01-01 & 2013-10-01 & 2013-10-16 & среда       & Москва ТЦ \"МЕГА Белая Дача II\" & 007 Legends {[}PS3, русская версия{]}       & 19\\\\\n",
       "\t4 & 27 & 2014-03-18 & 14 & 26 &  998.0 & 1 & 19 & 2014-01-01 & 2014-04-01 & 2014-03-18 & вторник     & Москва ТЦ \"Ареал\" (Беляево)    & 007 Legends {[}PS3, русская версия{]}       & 19\\\\\n",
       "\t5 & 28 & 2013-09-18 &  8 & 54 &  249.0 & 1 & 30 & 2014-01-01 & 2013-10-01 & 2013-09-18 & среда       & Химки ТЦ \"Мега\"                & 007 Legends {[}PС, Jewel, русская версия{]} & 30\\\\\n",
       "\t6 & 28 & 2013-04-16 &  3 & 12 &  398.0 & 1 & 30 & 2013-01-01 & 2013-05-01 & 2013-04-16 & вторник     & Интернет-магазин ЧС            & 007 Legends {[}PС, Jewel, русская версия{]} & 30\\\\\n",
       "\\end{tabular}\n"
      ],
      "text/markdown": [
       "\n",
       "A data.frame: 6 × 14\n",
       "\n",
       "| <!--/--> | item_id &lt;int&gt; | date &lt;dttm&gt; | date_block_num &lt;int&gt; | shop_id &lt;int&gt; | item_price &lt;dbl&gt; | item_cnt_day &lt;dbl&gt; | item_category_id.x &lt;fct&gt; | year &lt;dttm&gt; | month &lt;dttm&gt; | day &lt;dttm&gt; | weekdays &lt;fct&gt; | shop_name &lt;chr&gt; | item_name &lt;chr&gt; | item_category_id.y &lt;int&gt; |\n",
       "|---|---|---|---|---|---|---|---|---|---|---|---|---|---|---|\n",
       "| 1 | 27 | 2013-11-30 | 10 | 21 | 1198.0 | 1 | 19 | 2014-01-01 | 2013-12-01 | 2013-11-30 | суббота     | Москва МТРЦ \"Афи Молл\"         | 007 Legends [PS3, русская версия]       | 19 |\n",
       "| 2 | 27 | 2013-10-14 |  9 |  7 |  838.6 | 1 | 19 | 2014-01-01 | 2013-10-01 | 2013-10-14 | понедельник | Воронеж ТРЦ \"Максимир\"         | 007 Legends [PS3, русская версия]       | 19 |\n",
       "| 3 | 27 | 2013-10-16 |  9 | 27 |  838.0 | 1 | 19 | 2014-01-01 | 2013-10-01 | 2013-10-16 | среда       | Москва ТЦ \"МЕГА Белая Дача II\" | 007 Legends [PS3, русская версия]       | 19 |\n",
       "| 4 | 27 | 2014-03-18 | 14 | 26 |  998.0 | 1 | 19 | 2014-01-01 | 2014-04-01 | 2014-03-18 | вторник     | Москва ТЦ \"Ареал\" (Беляево)    | 007 Legends [PS3, русская версия]       | 19 |\n",
       "| 5 | 28 | 2013-09-18 |  8 | 54 |  249.0 | 1 | 30 | 2014-01-01 | 2013-10-01 | 2013-09-18 | среда       | Химки ТЦ \"Мега\"                | 007 Legends [PС, Jewel, русская версия] | 30 |\n",
       "| 6 | 28 | 2013-04-16 |  3 | 12 |  398.0 | 1 | 30 | 2013-01-01 | 2013-05-01 | 2013-04-16 | вторник     | Интернет-магазин ЧС            | 007 Legends [PС, Jewel, русская версия] | 30 |\n",
       "\n"
      ],
      "text/plain": [
       "  item_id date       date_block_num shop_id item_price item_cnt_day\n",
       "1 27      2013-11-30 10             21      1198.0     1           \n",
       "2 27      2013-10-14  9              7       838.6     1           \n",
       "3 27      2013-10-16  9             27       838.0     1           \n",
       "4 27      2014-03-18 14             26       998.0     1           \n",
       "5 28      2013-09-18  8             54       249.0     1           \n",
       "6 28      2013-04-16  3             12       398.0     1           \n",
       "  item_category_id.x year       month      day        weekdays   \n",
       "1 19                 2014-01-01 2013-12-01 2013-11-30 суббота    \n",
       "2 19                 2014-01-01 2013-10-01 2013-10-14 понедельник\n",
       "3 19                 2014-01-01 2013-10-01 2013-10-16 среда      \n",
       "4 19                 2014-01-01 2014-04-01 2014-03-18 вторник    \n",
       "5 30                 2014-01-01 2013-10-01 2013-09-18 среда      \n",
       "6 30                 2013-01-01 2013-05-01 2013-04-16 вторник    \n",
       "  shop_name                      item_name                              \n",
       "1 Москва МТРЦ \"Афи Молл\"         007 Legends [PS3, русская версия]      \n",
       "2 Воронеж ТРЦ \"Максимир\"         007 Legends [PS3, русская версия]      \n",
       "3 Москва ТЦ \"МЕГА Белая Дача II\" 007 Legends [PS3, русская версия]      \n",
       "4 Москва ТЦ \"Ареал\" (Беляево)    007 Legends [PS3, русская версия]      \n",
       "5 Химки ТЦ \"Мега\"                007 Legends [PС, Jewel, русская версия]\n",
       "6 Интернет-магазин ЧС            007 Legends [PС, Jewel, русская версия]\n",
       "  item_category_id.y\n",
       "1 19                \n",
       "2 19                \n",
       "3 19                \n",
       "4 19                \n",
       "5 30                \n",
       "6 30                "
      ]
     },
     "metadata": {},
     "output_type": "display_data"
    }
   ],
   "source": [
    "#dont include shops, items and prices in test set that do not appear in train set\n",
    "\n",
    "sub_test = sub_test %>%\n",
    "  semi_join(sub_train, by = 'shop_id') %>%\n",
    "  semi_join(sub_train, by = 'item_id')%>%\n",
    "  semi_join(sub_train, by = 'item_price')\n",
    "head(sub_test)"
   ]
  },
  {
   "cell_type": "markdown",
   "metadata": {},
   "source": [
    "# Evaluation"
   ]
  },
  {
   "cell_type": "markdown",
   "metadata": {},
   "source": [
    "### Using MAE to measure the average magnitude of the errors in a set of predictions"
   ]
  },
  {
   "cell_type": "code",
   "execution_count": 99,
   "metadata": {},
   "outputs": [
    {
     "name": "stdout",
     "output_type": "stream",
     "text": [
      "Iter   TrainDeviance   ValidDeviance   StepSize   Improve\n",
      "     1        6.2748         10.2062     0.0100    0.0008\n",
      "     2        6.2740         10.2063     0.0100    0.0008\n",
      "     3        6.2732         10.2065     0.0100    0.0008\n",
      "     4        6.2723         10.2066     0.0100    0.0008\n",
      "     5        6.2715         10.2067     0.0100    0.0008\n",
      "     6        6.2704         10.2068     0.0100    0.0007\n",
      "     7        6.2695         10.2069     0.0100    0.0008\n",
      "     8        6.2686         10.2070     0.0100    0.0007\n",
      "     9        6.2676         10.2071     0.0100    0.0006\n",
      "    10        6.2668         10.2072     0.0100    0.0008\n",
      "    20        6.2586         10.2085     0.0100    0.0013\n",
      "    40        6.2416         10.2117     0.0100    0.0012\n",
      "    60        6.2243         10.2154     0.0100    0.0003\n",
      "    80        6.2124         10.2174     0.0100    0.0006\n",
      "   100        6.2014         10.2200     0.0100    0.0003\n",
      "   120        6.1918         10.2203     0.0100    0.0001\n",
      "   140        6.1850         10.2204     0.0100    0.0001\n",
      "   160        6.1776         10.2204     0.0100    0.0001\n",
      "   180        6.1691         10.2203     0.0100    0.0002\n",
      "   200        6.1622         10.2210     0.0100    0.0005\n",
      "   220        6.1550         10.2218     0.0100    0.0002\n",
      "   240        6.1489         10.2224     0.0100   -0.0000\n",
      "   260        6.1398         10.2233     0.0100    0.0001\n",
      "   280        6.1354         10.2242     0.0100    0.0001\n",
      "   300        6.1304         10.2247     0.0100    0.0003\n",
      "   320        6.1261         10.2253     0.0100    0.0000\n",
      "   340        6.1224         10.2260     0.0100    0.0001\n",
      "   360        6.1185         10.2266     0.0100    0.0001\n",
      "   380        6.1125         10.2274     0.0100    0.0001\n",
      "   400        6.1090         10.2280     0.0100    0.0001\n",
      "   420        6.1055         10.2285     0.0100    0.0001\n",
      "   440        6.1040         10.2294     0.0100    0.0002\n",
      "   460        6.1010         10.2296     0.0100    0.0003\n",
      "   480        6.0978         10.2298     0.0100    0.0001\n",
      "   500        6.0955         10.2301     0.0100    0.0001\n",
      "   520        6.0942         10.2304     0.0100    0.0000\n",
      "   540        6.0920         10.2307     0.0100    0.0001\n",
      "   560        6.0882         10.2314     0.0100   -0.0001\n",
      "   580        6.0857         10.2317     0.0100    0.0000\n",
      "   600        6.0816         10.2317     0.0100    0.0001\n",
      "   620        6.0795         10.2318     0.0100    0.0001\n",
      "   640        6.0769         10.2320     0.0100    0.0000\n",
      "   660        6.0745         10.2322     0.0100    0.0001\n",
      "   680        6.0729         10.2327     0.0100    0.0000\n",
      "   700        6.0698         10.2328     0.0100    0.0000\n",
      "   720        6.0675         10.2328     0.0100    0.0000\n",
      "   740        6.0657         10.2329     0.0100    0.0000\n",
      "   760        6.0640         10.2333     0.0100    0.0000\n",
      "   780        6.0607         10.2334     0.0100    0.0000\n",
      "   800        6.0586         10.2336     0.0100    0.0000\n",
      "   820        6.0568         10.2337     0.0100    0.0001\n",
      "   840        6.0542         10.2339     0.0100    0.0000\n",
      "   860        6.0517         10.2343     0.0100    0.0001\n",
      "   880        6.0497         10.2336     0.0100   -0.0001\n",
      "   900        6.0483         10.2330     0.0100    0.0000\n",
      "   920        6.0451         10.2329     0.0100    0.0000\n",
      "   940        6.0435         10.2332     0.0100    0.0000\n",
      "   960        6.0421         10.2330     0.0100    0.0001\n",
      "   980        6.0407         10.2329     0.0100    0.0000\n",
      "  1000        6.0390         10.2331     0.0100   -0.0001\n",
      "\n"
     ]
    }
   ],
   "source": [
    "gbm_model_2  =  gbm(item_cnt_day ~ shop_id + item_id,\n",
    "                  data = sub_train,\n",
    "                  shrinkage = 0.01,\n",
    "                  distribution = \"gaussian\",\n",
    "                  n.trees = 1000,\n",
    "                  interaction.depth = 5, \n",
    "                  bag.fraction = 0.5,\n",
    "                  train.fraction = 0.8,\n",
    "                  # cv.folds = 5,\n",
    "                  n.cores = -1,\n",
    "                  verbose = T)"
   ]
  },
  {
   "cell_type": "code",
   "execution_count": 101,
   "metadata": {},
   "outputs": [
    {
     "name": "stderr",
     "output_type": "stream",
     "text": [
      "Warning message in actual - predicted:\n",
      "\"длина большего объекта не является произведением длины меньшего объекта\"\n"
     ]
    },
    {
     "name": "stdout",
     "output_type": "stream",
     "text": [
      "[1] \"gbm 0.382608890672892\"\n"
     ]
    }
   ],
   "source": [
    "result_2 = predict(gbm_model_2,newdata = test[,c(\"shop_id\",\"item_id\")], n.trees = 1000)\n",
    "print(paste(\"gbm\", mae(test1, result_2)))"
   ]
  },
  {
   "cell_type": "markdown",
   "metadata": {},
   "source": [
    "# Changing the values of the parameters shrinkage = 0.1, n.trees = 100"
   ]
  },
  {
   "cell_type": "code",
   "execution_count": 95,
   "metadata": {},
   "outputs": [
    {
     "name": "stdout",
     "output_type": "stream",
     "text": [
      "Iter   TrainDeviance   ValidDeviance   StepSize   Improve\n",
      "     1        6.2664         10.2072     0.1000    0.0076\n",
      "     2        6.2589         10.2084     0.1000    0.0071\n",
      "     3        6.2535         10.2094     0.1000    0.0055\n",
      "     4        6.2384         10.2120     0.1000    0.0124\n",
      "     5        6.2343         10.2129     0.1000    0.0046\n",
      "     6        6.2215         10.2152     0.1000    0.0068\n",
      "     7        6.2137         10.2173     0.1000    0.0065\n",
      "     8        6.2062         10.2193     0.1000    0.0032\n",
      "     9        6.2026         10.2198     0.1000    0.0042\n",
      "    10        6.2007         10.2217     0.1000    0.0014\n",
      "    20        6.1601         10.2220     0.1000    0.0012\n",
      "    40        6.1115         10.2294     0.1000    0.0007\n",
      "    60        6.0905         10.2345     0.1000    0.0007\n",
      "    80        6.0684         10.2358     0.1000    0.0000\n",
      "   100        6.0485         10.2336     0.1000   -0.0014\n",
      "\n"
     ]
    }
   ],
   "source": [
    "gbm_model_1  =  gbm(item_cnt_day ~ shop_id + item_id,\n",
    "                  data = sub_train,\n",
    "                  shrinkage = 0.1,\n",
    "                  distribution = \"gaussian\",\n",
    "                  n.trees = 100,\n",
    "                  interaction.depth = 5, \n",
    "                  bag.fraction = 0.5,\n",
    "                  train.fraction = 0.8,\n",
    "                  # cv.folds = 5,\n",
    "                  n.cores = -1,\n",
    "                  verbose = T)"
   ]
  },
  {
   "cell_type": "code",
   "execution_count": 98,
   "metadata": {},
   "outputs": [
    {
     "name": "stdout",
     "output_type": "stream",
     "text": [
      "[1] \"gbm 0.382333033904658\"\n"
     ]
    }
   ],
   "source": [
    "result1 = predict(gbm_model_1,newdata = sub_test[,c(\"shop_id\",\"item_id\")], n.trees = 100)\n",
    "print(paste(\"gbm\", mae(test1, result1)))"
   ]
  },
  {
   "cell_type": "markdown",
   "metadata": {},
   "source": [
    "##  gbm (shrinkage = 0.1, n.trees = 100,) has the better result with the MAE of 0.382333033904658"
   ]
  },
  {
   "cell_type": "markdown",
   "metadata": {},
   "source": [
    "# Result"
   ]
  },
  {
   "cell_type": "code",
   "execution_count": 103,
   "metadata": {},
   "outputs": [
    {
     "name": "stdout",
     "output_type": "stream",
     "text": [
      "Iter   TrainDeviance   ValidDeviance   StepSize   Improve\n",
      "     1        6.0174         10.1995     0.1000    0.0083\n",
      "     2        6.0111         10.2005     0.1000    0.0066\n",
      "     3        6.0048         10.2015     0.1000    0.0072\n",
      "     4        5.9940         10.2040     0.1000    0.0115\n",
      "     5        5.9910         10.2061     0.1000    0.0031\n",
      "     6        5.9834         10.2084     0.1000    0.0088\n",
      "     7        5.9812         10.2103     0.1000    0.0024\n",
      "     8        5.9771         10.2110     0.1000    0.0043\n",
      "     9        5.9614         10.2113     0.1000    0.0082\n",
      "    10        5.9525         10.2132     0.1000    0.0067\n",
      "    20        5.9087         10.2128     0.1000    0.0007\n",
      "    40        5.8641         10.2193     0.1000    0.0004\n",
      "    60        5.8352         10.2243     0.1000    0.0007\n",
      "    80        5.8160         10.2254     0.1000    0.0003\n",
      "   100        5.7992         10.2251     0.1000    0.0004\n",
      "\n"
     ]
    }
   ],
   "source": [
    "# this model takes a long time to finish\n",
    "\n",
    "# GBM Model\n",
    "\n",
    "gbm_model  =  gbm(item_cnt_day ~ shop_id + item_id,\n",
    "                  data = sales_train,\n",
    "                  shrinkage = 0.1,\n",
    "                  distribution = \"gaussian\",\n",
    "                  n.trees = 100,\n",
    "                  interaction.depth = 5, \n",
    "                  bag.fraction = 0.5,\n",
    "                  train.fraction = 0.8,\n",
    "                  # cv.folds = 5,\n",
    "                  n.cores = -1,\n",
    "                  verbose = T)"
   ]
  },
  {
   "cell_type": "code",
   "execution_count": 104,
   "metadata": {},
   "outputs": [],
   "source": [
    "result2 = predict(gbm_model,newdata = test[,c(\"shop_id\",\"item_id\")], n.trees = 100)"
   ]
  },
  {
   "cell_type": "code",
   "execution_count": 105,
   "metadata": {},
   "outputs": [],
   "source": [
    "sub2 = data.frame(ID = test$ID, \n",
    "                  item_cnt_month =  result2)"
   ]
  },
  {
   "cell_type": "code",
   "execution_count": 106,
   "metadata": {},
   "outputs": [
    {
     "data": {
      "text/html": [
       "<table>\n",
       "<caption>A data.frame: 214200 × 2</caption>\n",
       "<thead>\n",
       "\t<tr><th scope=col>ID</th><th scope=col>item_cnt_month</th></tr>\n",
       "\t<tr><th scope=col>&lt;int&gt;</th><th scope=col>&lt;dbl&gt;</th></tr>\n",
       "</thead>\n",
       "<tbody>\n",
       "\t<tr><td> 0</td><td>1.091349</td></tr>\n",
       "\t<tr><td> 1</td><td>1.091349</td></tr>\n",
       "\t<tr><td> 2</td><td>1.091349</td></tr>\n",
       "\t<tr><td> 3</td><td>1.091349</td></tr>\n",
       "\t<tr><td> 4</td><td>1.091349</td></tr>\n",
       "\t<tr><td> 5</td><td>1.091349</td></tr>\n",
       "\t<tr><td> 6</td><td>1.091349</td></tr>\n",
       "\t<tr><td> 7</td><td>1.091349</td></tr>\n",
       "\t<tr><td> 8</td><td>1.091349</td></tr>\n",
       "\t<tr><td> 9</td><td>1.091349</td></tr>\n",
       "\t<tr><td>10</td><td>1.091349</td></tr>\n",
       "\t<tr><td>11</td><td>1.091349</td></tr>\n",
       "\t<tr><td>12</td><td>1.091349</td></tr>\n",
       "\t<tr><td>13</td><td>1.091349</td></tr>\n",
       "\t<tr><td>14</td><td>1.091349</td></tr>\n",
       "\t<tr><td>15</td><td>1.091349</td></tr>\n",
       "\t<tr><td>16</td><td>1.091349</td></tr>\n",
       "\t<tr><td>17</td><td>1.091349</td></tr>\n",
       "\t<tr><td>18</td><td>1.091349</td></tr>\n",
       "\t<tr><td>19</td><td>1.091349</td></tr>\n",
       "\t<tr><td>20</td><td>1.091349</td></tr>\n",
       "\t<tr><td>21</td><td>1.091349</td></tr>\n",
       "\t<tr><td>22</td><td>1.198061</td></tr>\n",
       "\t<tr><td>23</td><td>1.091349</td></tr>\n",
       "\t<tr><td>24</td><td>1.137742</td></tr>\n",
       "\t<tr><td>25</td><td>1.137742</td></tr>\n",
       "\t<tr><td>26</td><td>1.137742</td></tr>\n",
       "\t<tr><td>27</td><td>1.091349</td></tr>\n",
       "\t<tr><td>28</td><td>1.091349</td></tr>\n",
       "\t<tr><td>29</td><td>1.091349</td></tr>\n",
       "\t<tr><td>...</td><td>...</td></tr>\n",
       "\t<tr><td>214170</td><td>1.083466</td></tr>\n",
       "\t<tr><td>214171</td><td>1.084974</td></tr>\n",
       "\t<tr><td>214172</td><td>1.084974</td></tr>\n",
       "\t<tr><td>214173</td><td>1.081398</td></tr>\n",
       "\t<tr><td>214174</td><td>1.134418</td></tr>\n",
       "\t<tr><td>214175</td><td>1.155197</td></tr>\n",
       "\t<tr><td>214176</td><td>1.103013</td></tr>\n",
       "\t<tr><td>214177</td><td>1.089223</td></tr>\n",
       "\t<tr><td>214178</td><td>1.130596</td></tr>\n",
       "\t<tr><td>214179</td><td>1.191527</td></tr>\n",
       "\t<tr><td>214180</td><td>1.084974</td></tr>\n",
       "\t<tr><td>214181</td><td>1.084974</td></tr>\n",
       "\t<tr><td>214182</td><td>1.121106</td></tr>\n",
       "\t<tr><td>214183</td><td>1.130596</td></tr>\n",
       "\t<tr><td>214184</td><td>1.103013</td></tr>\n",
       "\t<tr><td>214185</td><td>1.083466</td></tr>\n",
       "\t<tr><td>214186</td><td>1.083466</td></tr>\n",
       "\t<tr><td>214187</td><td>1.121106</td></tr>\n",
       "\t<tr><td>214188</td><td>1.130596</td></tr>\n",
       "\t<tr><td>214189</td><td>1.069938</td></tr>\n",
       "\t<tr><td>214190</td><td>1.191527</td></tr>\n",
       "\t<tr><td>214191</td><td>1.121106</td></tr>\n",
       "\t<tr><td>214192</td><td>1.121106</td></tr>\n",
       "\t<tr><td>214193</td><td>1.084974</td></tr>\n",
       "\t<tr><td>214194</td><td>1.084974</td></tr>\n",
       "\t<tr><td>214195</td><td>1.084974</td></tr>\n",
       "\t<tr><td>214196</td><td>1.069938</td></tr>\n",
       "\t<tr><td>214197</td><td>1.069938</td></tr>\n",
       "\t<tr><td>214198</td><td>1.084974</td></tr>\n",
       "\t<tr><td>214199</td><td>1.065532</td></tr>\n",
       "</tbody>\n",
       "</table>\n"
      ],
      "text/latex": [
       "A data.frame: 214200 × 2\n",
       "\\begin{tabular}{ll}\n",
       " ID & item\\_cnt\\_month\\\\\n",
       " <int> & <dbl>\\\\\n",
       "\\hline\n",
       "\t  0 & 1.091349\\\\\n",
       "\t  1 & 1.091349\\\\\n",
       "\t  2 & 1.091349\\\\\n",
       "\t  3 & 1.091349\\\\\n",
       "\t  4 & 1.091349\\\\\n",
       "\t  5 & 1.091349\\\\\n",
       "\t  6 & 1.091349\\\\\n",
       "\t  7 & 1.091349\\\\\n",
       "\t  8 & 1.091349\\\\\n",
       "\t  9 & 1.091349\\\\\n",
       "\t 10 & 1.091349\\\\\n",
       "\t 11 & 1.091349\\\\\n",
       "\t 12 & 1.091349\\\\\n",
       "\t 13 & 1.091349\\\\\n",
       "\t 14 & 1.091349\\\\\n",
       "\t 15 & 1.091349\\\\\n",
       "\t 16 & 1.091349\\\\\n",
       "\t 17 & 1.091349\\\\\n",
       "\t 18 & 1.091349\\\\\n",
       "\t 19 & 1.091349\\\\\n",
       "\t 20 & 1.091349\\\\\n",
       "\t 21 & 1.091349\\\\\n",
       "\t 22 & 1.198061\\\\\n",
       "\t 23 & 1.091349\\\\\n",
       "\t 24 & 1.137742\\\\\n",
       "\t 25 & 1.137742\\\\\n",
       "\t 26 & 1.137742\\\\\n",
       "\t 27 & 1.091349\\\\\n",
       "\t 28 & 1.091349\\\\\n",
       "\t 29 & 1.091349\\\\\n",
       "\t ... & ...\\\\\n",
       "\t 214170 & 1.083466\\\\\n",
       "\t 214171 & 1.084974\\\\\n",
       "\t 214172 & 1.084974\\\\\n",
       "\t 214173 & 1.081398\\\\\n",
       "\t 214174 & 1.134418\\\\\n",
       "\t 214175 & 1.155197\\\\\n",
       "\t 214176 & 1.103013\\\\\n",
       "\t 214177 & 1.089223\\\\\n",
       "\t 214178 & 1.130596\\\\\n",
       "\t 214179 & 1.191527\\\\\n",
       "\t 214180 & 1.084974\\\\\n",
       "\t 214181 & 1.084974\\\\\n",
       "\t 214182 & 1.121106\\\\\n",
       "\t 214183 & 1.130596\\\\\n",
       "\t 214184 & 1.103013\\\\\n",
       "\t 214185 & 1.083466\\\\\n",
       "\t 214186 & 1.083466\\\\\n",
       "\t 214187 & 1.121106\\\\\n",
       "\t 214188 & 1.130596\\\\\n",
       "\t 214189 & 1.069938\\\\\n",
       "\t 214190 & 1.191527\\\\\n",
       "\t 214191 & 1.121106\\\\\n",
       "\t 214192 & 1.121106\\\\\n",
       "\t 214193 & 1.084974\\\\\n",
       "\t 214194 & 1.084974\\\\\n",
       "\t 214195 & 1.084974\\\\\n",
       "\t 214196 & 1.069938\\\\\n",
       "\t 214197 & 1.069938\\\\\n",
       "\t 214198 & 1.084974\\\\\n",
       "\t 214199 & 1.065532\\\\\n",
       "\\end{tabular}\n"
      ],
      "text/markdown": [
       "\n",
       "A data.frame: 214200 × 2\n",
       "\n",
       "| ID &lt;int&gt; | item_cnt_month &lt;dbl&gt; |\n",
       "|---|---|\n",
       "|  0 | 1.091349 |\n",
       "|  1 | 1.091349 |\n",
       "|  2 | 1.091349 |\n",
       "|  3 | 1.091349 |\n",
       "|  4 | 1.091349 |\n",
       "|  5 | 1.091349 |\n",
       "|  6 | 1.091349 |\n",
       "|  7 | 1.091349 |\n",
       "|  8 | 1.091349 |\n",
       "|  9 | 1.091349 |\n",
       "| 10 | 1.091349 |\n",
       "| 11 | 1.091349 |\n",
       "| 12 | 1.091349 |\n",
       "| 13 | 1.091349 |\n",
       "| 14 | 1.091349 |\n",
       "| 15 | 1.091349 |\n",
       "| 16 | 1.091349 |\n",
       "| 17 | 1.091349 |\n",
       "| 18 | 1.091349 |\n",
       "| 19 | 1.091349 |\n",
       "| 20 | 1.091349 |\n",
       "| 21 | 1.091349 |\n",
       "| 22 | 1.198061 |\n",
       "| 23 | 1.091349 |\n",
       "| 24 | 1.137742 |\n",
       "| 25 | 1.137742 |\n",
       "| 26 | 1.137742 |\n",
       "| 27 | 1.091349 |\n",
       "| 28 | 1.091349 |\n",
       "| 29 | 1.091349 |\n",
       "| ... | ... |\n",
       "| 214170 | 1.083466 |\n",
       "| 214171 | 1.084974 |\n",
       "| 214172 | 1.084974 |\n",
       "| 214173 | 1.081398 |\n",
       "| 214174 | 1.134418 |\n",
       "| 214175 | 1.155197 |\n",
       "| 214176 | 1.103013 |\n",
       "| 214177 | 1.089223 |\n",
       "| 214178 | 1.130596 |\n",
       "| 214179 | 1.191527 |\n",
       "| 214180 | 1.084974 |\n",
       "| 214181 | 1.084974 |\n",
       "| 214182 | 1.121106 |\n",
       "| 214183 | 1.130596 |\n",
       "| 214184 | 1.103013 |\n",
       "| 214185 | 1.083466 |\n",
       "| 214186 | 1.083466 |\n",
       "| 214187 | 1.121106 |\n",
       "| 214188 | 1.130596 |\n",
       "| 214189 | 1.069938 |\n",
       "| 214190 | 1.191527 |\n",
       "| 214191 | 1.121106 |\n",
       "| 214192 | 1.121106 |\n",
       "| 214193 | 1.084974 |\n",
       "| 214194 | 1.084974 |\n",
       "| 214195 | 1.084974 |\n",
       "| 214196 | 1.069938 |\n",
       "| 214197 | 1.069938 |\n",
       "| 214198 | 1.084974 |\n",
       "| 214199 | 1.065532 |\n",
       "\n"
      ],
      "text/plain": [
       "       ID     item_cnt_month\n",
       "1       0     1.091349      \n",
       "2       1     1.091349      \n",
       "3       2     1.091349      \n",
       "4       3     1.091349      \n",
       "5       4     1.091349      \n",
       "6       5     1.091349      \n",
       "7       6     1.091349      \n",
       "8       7     1.091349      \n",
       "9       8     1.091349      \n",
       "10      9     1.091349      \n",
       "11     10     1.091349      \n",
       "12     11     1.091349      \n",
       "13     12     1.091349      \n",
       "14     13     1.091349      \n",
       "15     14     1.091349      \n",
       "16     15     1.091349      \n",
       "17     16     1.091349      \n",
       "18     17     1.091349      \n",
       "19     18     1.091349      \n",
       "20     19     1.091349      \n",
       "21     20     1.091349      \n",
       "22     21     1.091349      \n",
       "23     22     1.198061      \n",
       "24     23     1.091349      \n",
       "25     24     1.137742      \n",
       "26     25     1.137742      \n",
       "27     26     1.137742      \n",
       "28     27     1.091349      \n",
       "29     28     1.091349      \n",
       "30     29     1.091349      \n",
       "...    ...    ...           \n",
       "214171 214170 1.083466      \n",
       "214172 214171 1.084974      \n",
       "214173 214172 1.084974      \n",
       "214174 214173 1.081398      \n",
       "214175 214174 1.134418      \n",
       "214176 214175 1.155197      \n",
       "214177 214176 1.103013      \n",
       "214178 214177 1.089223      \n",
       "214179 214178 1.130596      \n",
       "214180 214179 1.191527      \n",
       "214181 214180 1.084974      \n",
       "214182 214181 1.084974      \n",
       "214183 214182 1.121106      \n",
       "214184 214183 1.130596      \n",
       "214185 214184 1.103013      \n",
       "214186 214185 1.083466      \n",
       "214187 214186 1.083466      \n",
       "214188 214187 1.121106      \n",
       "214189 214188 1.130596      \n",
       "214190 214189 1.069938      \n",
       "214191 214190 1.191527      \n",
       "214192 214191 1.121106      \n",
       "214193 214192 1.121106      \n",
       "214194 214193 1.084974      \n",
       "214195 214194 1.084974      \n",
       "214196 214195 1.084974      \n",
       "214197 214196 1.069938      \n",
       "214198 214197 1.069938      \n",
       "214199 214198 1.084974      \n",
       "214200 214199 1.065532      "
      ]
     },
     "metadata": {},
     "output_type": "display_data"
    }
   ],
   "source": [
    "sub2"
   ]
  },
  {
   "cell_type": "code",
   "execution_count": null,
   "metadata": {},
   "outputs": [],
   "source": []
  }
 ],
 "metadata": {
  "kernelspec": {
   "display_name": "R",
   "language": "R",
   "name": "ir"
  },
  "language_info": {
   "codemirror_mode": "r",
   "file_extension": ".r",
   "mimetype": "text/x-r-source",
   "name": "R",
   "pygments_lexer": "r",
   "version": "3.6.1"
  }
 },
 "nbformat": 4,
 "nbformat_minor": 4
}
